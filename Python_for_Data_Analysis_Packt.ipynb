{
 "cells": [
  {
   "cell_type": "markdown",
   "id": "811f8283",
   "metadata": {},
   "source": [
    "## Python Crash Course"
   ]
  },
  {
   "cell_type": "markdown",
   "id": "32e6123a",
   "metadata": {},
   "source": [
    "### Numerical operations, strings, common functions, and methods"
   ]
  },
  {
   "cell_type": "markdown",
   "id": "8654c5aa",
   "metadata": {},
   "source": [
    "#### Numerical operations"
   ]
  },
  {
   "cell_type": "code",
   "execution_count": 8,
   "id": "d7446475",
   "metadata": {},
   "outputs": [
    {
     "data": {
      "text/plain": [
       "2"
      ]
     },
     "execution_count": 8,
     "metadata": {},
     "output_type": "execute_result"
    }
   ],
   "source": [
    "# Addition\n",
    "1+1"
   ]
  },
  {
   "cell_type": "code",
   "execution_count": 2,
   "id": "1d9566cd",
   "metadata": {},
   "outputs": [
    {
     "data": {
      "text/plain": [
       "0"
      ]
     },
     "execution_count": 2,
     "metadata": {},
     "output_type": "execute_result"
    }
   ],
   "source": [
    "# Subtraction\n",
    "1-1"
   ]
  },
  {
   "cell_type": "code",
   "execution_count": 3,
   "id": "63d167a3",
   "metadata": {},
   "outputs": [
    {
     "data": {
      "text/plain": [
       "1.0"
      ]
     },
     "execution_count": 3,
     "metadata": {},
     "output_type": "execute_result"
    }
   ],
   "source": [
    "# Division\n",
    "1/1"
   ]
  },
  {
   "cell_type": "code",
   "execution_count": 5,
   "id": "2fb849c0",
   "metadata": {},
   "outputs": [
    {
     "data": {
      "text/plain": [
       "3"
      ]
     },
     "execution_count": 5,
     "metadata": {},
     "output_type": "execute_result"
    }
   ],
   "source": [
    "# Multiplication\n",
    "1*3"
   ]
  },
  {
   "cell_type": "code",
   "execution_count": 6,
   "id": "d3e17582",
   "metadata": {},
   "outputs": [
    {
     "data": {
      "text/plain": [
       "27"
      ]
     },
     "execution_count": 6,
     "metadata": {},
     "output_type": "execute_result"
    }
   ],
   "source": [
    "# Raising a number to a power\n",
    "3**3"
   ]
  },
  {
   "cell_type": "code",
   "execution_count": 7,
   "id": "12daf2d3",
   "metadata": {},
   "outputs": [
    {
     "data": {
      "text/plain": [
       "1"
      ]
     },
     "execution_count": 7,
     "metadata": {},
     "output_type": "execute_result"
    }
   ],
   "source": [
    "# Getting the remainder\n",
    "9%2"
   ]
  },
  {
   "cell_type": "markdown",
   "id": "fea3a708",
   "metadata": {},
   "source": [
    "#### Strings"
   ]
  },
  {
   "cell_type": "code",
   "execution_count": 9,
   "id": "b82424e2",
   "metadata": {},
   "outputs": [
    {
     "name": "stdout",
     "output_type": "stream",
     "text": [
      "Hello world!\n"
     ]
    }
   ],
   "source": [
    "greeting = 'Hello'\n",
    "print(f\"{greeting} world!\")"
   ]
  },
  {
   "cell_type": "code",
   "execution_count": 10,
   "id": "8f7c2543",
   "metadata": {},
   "outputs": [
    {
     "name": "stdout",
     "output_type": "stream",
     "text": [
      "What are you studying? Data Science\n"
     ]
    }
   ],
   "source": [
    "# String concatenation\n",
    "question = 'What are you studying?'\n",
    "answer = 'Data Science'\n",
    "print(question + ' ' + answer)"
   ]
  },
  {
   "cell_type": "code",
   "execution_count": 11,
   "id": "190a59af",
   "metadata": {},
   "outputs": [
    {
     "data": {
      "text/plain": [
       "str"
      ]
     },
     "execution_count": 11,
     "metadata": {},
     "output_type": "execute_result"
    }
   ],
   "source": [
    "type(question)"
   ]
  },
  {
   "cell_type": "code",
   "execution_count": 12,
   "id": "4012afc4",
   "metadata": {},
   "outputs": [
    {
     "data": {
      "text/plain": [
       "22"
      ]
     },
     "execution_count": 12,
     "metadata": {},
     "output_type": "execute_result"
    }
   ],
   "source": [
    "len(question)"
   ]
  },
  {
   "cell_type": "code",
   "execution_count": 15,
   "id": "4bc19e96",
   "metadata": {},
   "outputs": [
    {
     "name": "stdout",
     "output_type": "stream",
     "text": [
      "D\n",
      "t\n",
      "S\n",
      "e\n"
     ]
    }
   ],
   "source": [
    "print(answer[0])\n",
    "print(answer[2])\n",
    "print(answer[5])\n",
    "print(answer[-1])"
   ]
  },
  {
   "cell_type": "markdown",
   "id": "6d18bd1c",
   "metadata": {},
   "source": [
    "#### String methods"
   ]
  },
  {
   "cell_type": "code",
   "execution_count": 16,
   "id": "3395cfb7",
   "metadata": {},
   "outputs": [
    {
     "data": {
      "text/plain": [
       "'DATA SCIENCE'"
      ]
     },
     "execution_count": 16,
     "metadata": {},
     "output_type": "execute_result"
    }
   ],
   "source": [
    "answer.upper()"
   ]
  },
  {
   "cell_type": "code",
   "execution_count": 17,
   "id": "2ba94451",
   "metadata": {},
   "outputs": [
    {
     "data": {
      "text/plain": [
       "'data science'"
      ]
     },
     "execution_count": 17,
     "metadata": {},
     "output_type": "execute_result"
    }
   ],
   "source": [
    "answer.lower()"
   ]
  },
  {
   "cell_type": "code",
   "execution_count": 18,
   "id": "674921f9",
   "metadata": {},
   "outputs": [
    {
     "data": {
      "text/plain": [
       "'Data science'"
      ]
     },
     "execution_count": 18,
     "metadata": {},
     "output_type": "execute_result"
    }
   ],
   "source": [
    "answer.capitalize()"
   ]
  },
  {
   "cell_type": "code",
   "execution_count": 19,
   "id": "73e983dd",
   "metadata": {},
   "outputs": [
    {
     "data": {
      "text/plain": [
       "'Data Science'"
      ]
     },
     "execution_count": 19,
     "metadata": {},
     "output_type": "execute_result"
    }
   ],
   "source": [
    "answer.title()"
   ]
  },
  {
   "cell_type": "code",
   "execution_count": 20,
   "id": "5b4f5b25",
   "metadata": {},
   "outputs": [
    {
     "data": {
      "text/plain": [
       "'dATA sCIENCE'"
      ]
     },
     "execution_count": 20,
     "metadata": {},
     "output_type": "execute_result"
    }
   ],
   "source": [
    "answer.swapcase()"
   ]
  },
  {
   "cell_type": "code",
   "execution_count": 21,
   "id": "4825bda6",
   "metadata": {},
   "outputs": [
    {
     "data": {
      "text/plain": [
       "2"
      ]
     },
     "execution_count": 21,
     "metadata": {},
     "output_type": "execute_result"
    }
   ],
   "source": [
    "answer.find('t')"
   ]
  },
  {
   "cell_type": "code",
   "execution_count": 26,
   "id": "cc5b631b",
   "metadata": {},
   "outputs": [],
   "source": [
    "index = answer.find('Science')"
   ]
  },
  {
   "cell_type": "code",
   "execution_count": 27,
   "id": "2185dac8",
   "metadata": {},
   "outputs": [
    {
     "data": {
      "text/plain": [
       "'Science'"
      ]
     },
     "execution_count": 27,
     "metadata": {},
     "output_type": "execute_result"
    }
   ],
   "source": [
    "answer[index:]"
   ]
  },
  {
   "cell_type": "code",
   "execution_count": 29,
   "id": "4dd0b70d",
   "metadata": {},
   "outputs": [],
   "source": [
    "greeting = \"Hello there, how are you today?\""
   ]
  },
  {
   "cell_type": "code",
   "execution_count": 32,
   "id": "5fc58dbc",
   "metadata": {},
   "outputs": [
    {
     "data": {
      "text/plain": [
       "'?yadot uoy era woh ,ereht olleH'"
      ]
     },
     "execution_count": 32,
     "metadata": {},
     "output_type": "execute_result"
    }
   ],
   "source": [
    "greeting[::-1]"
   ]
  },
  {
   "cell_type": "code",
   "execution_count": 40,
   "id": "aeea3092",
   "metadata": {},
   "outputs": [
    {
     "data": {
      "text/plain": [
       "'?yadot uoy era woh ,ereht olleH'"
      ]
     },
     "execution_count": 40,
     "metadata": {},
     "output_type": "execute_result"
    }
   ],
   "source": [
    "\"\".join(reversed(greeting))"
   ]
  },
  {
   "cell_type": "code",
   "execution_count": 41,
   "id": "b91778c7",
   "metadata": {},
   "outputs": [
    {
     "name": "stdout",
     "output_type": "stream",
     "text": [
      "1\n"
     ]
    }
   ],
   "source": [
    "### Lists, tuples\n",
    "l1 = [1, 2, 3]\n",
    "l2 = [1, 'hello', 'test', 2.6]\n",
    "print(l1[0])"
   ]
  },
  {
   "cell_type": "code",
   "execution_count": 43,
   "id": "018deb28",
   "metadata": {},
   "outputs": [],
   "source": [
    "# Add an element to a list\n",
    "l1.append(4)"
   ]
  },
  {
   "cell_type": "code",
   "execution_count": 44,
   "id": "4ed77a12",
   "metadata": {},
   "outputs": [
    {
     "data": {
      "text/plain": [
       "[1, 2, 3, 4, 4]"
      ]
     },
     "execution_count": 44,
     "metadata": {},
     "output_type": "execute_result"
    }
   ],
   "source": [
    "l1"
   ]
  },
  {
   "cell_type": "code",
   "execution_count": 45,
   "id": "0716dd90",
   "metadata": {},
   "outputs": [
    {
     "data": {
      "text/plain": [
       "4"
      ]
     },
     "execution_count": 45,
     "metadata": {},
     "output_type": "execute_result"
    }
   ],
   "source": [
    "# Remove the last element of the list\n",
    "l1.pop()"
   ]
  },
  {
   "cell_type": "code",
   "execution_count": 49,
   "id": "ad864899",
   "metadata": {},
   "outputs": [],
   "source": [
    "# Insert a certain element in a certain position\n",
    "l1.insert(4,2)"
   ]
  },
  {
   "cell_type": "code",
   "execution_count": 50,
   "id": "61d21aca",
   "metadata": {},
   "outputs": [
    {
     "data": {
      "text/plain": [
       "[1, 2, 3, 4, 2, 2]"
      ]
     },
     "execution_count": 50,
     "metadata": {},
     "output_type": "execute_result"
    }
   ],
   "source": [
    "l1"
   ]
  },
  {
   "cell_type": "code",
   "execution_count": 61,
   "id": "7cd2c1b7",
   "metadata": {},
   "outputs": [
    {
     "data": {
      "text/plain": [
       "[2, 2, 4, 3, 2, 1]"
      ]
     },
     "execution_count": 61,
     "metadata": {},
     "output_type": "execute_result"
    }
   ],
   "source": [
    "# Reverse the contents of the list\n",
    "l1[::-1]"
   ]
  },
  {
   "cell_type": "code",
   "execution_count": 66,
   "id": "91d82b58",
   "metadata": {},
   "outputs": [],
   "source": [
    "# reverse the contents of the list in place\n",
    "l1.reverse()"
   ]
  },
  {
   "cell_type": "code",
   "execution_count": 67,
   "id": "82b60311",
   "metadata": {},
   "outputs": [
    {
     "data": {
      "text/plain": [
       "[2, 2, 4, 3, 2, 1]"
      ]
     },
     "execution_count": 67,
     "metadata": {},
     "output_type": "execute_result"
    }
   ],
   "source": [
    "l1"
   ]
  },
  {
   "cell_type": "code",
   "execution_count": 68,
   "id": "1f9c86fc",
   "metadata": {},
   "outputs": [],
   "source": [
    "# Sort the list\n",
    "l1.sort()"
   ]
  },
  {
   "cell_type": "code",
   "execution_count": 69,
   "id": "487b63f8",
   "metadata": {},
   "outputs": [
    {
     "data": {
      "text/plain": [
       "[1, 2, 2, 2, 3, 4]"
      ]
     },
     "execution_count": 69,
     "metadata": {},
     "output_type": "execute_result"
    }
   ],
   "source": [
    "l1"
   ]
  },
  {
   "cell_type": "code",
   "execution_count": 70,
   "id": "4aa5434a",
   "metadata": {},
   "outputs": [
    {
     "data": {
      "text/plain": [
       "4"
      ]
     },
     "execution_count": 70,
     "metadata": {},
     "output_type": "execute_result"
    }
   ],
   "source": [
    "# Get the minimum and maximum values\n",
    "min(l1)\n",
    "max(l1)"
   ]
  },
  {
   "cell_type": "markdown",
   "id": "4d5b08fb",
   "metadata": {},
   "source": [
    "#### Tuples"
   ]
  },
  {
   "cell_type": "markdown",
   "id": "b4af5e5f",
   "metadata": {},
   "source": [
    "These are object collections like lists but they are _immutable_"
   ]
  },
  {
   "cell_type": "code",
   "execution_count": 73,
   "id": "33a1e0f7",
   "metadata": {},
   "outputs": [],
   "source": [
    "t1 = (1, 2, 3)"
   ]
  },
  {
   "cell_type": "code",
   "execution_count": 75,
   "id": "bcfb82b1",
   "metadata": {},
   "outputs": [
    {
     "data": {
      "text/plain": [
       "1"
      ]
     },
     "execution_count": 75,
     "metadata": {},
     "output_type": "execute_result"
    }
   ],
   "source": [
    "t1[0]"
   ]
  },
  {
   "cell_type": "code",
   "execution_count": 76,
   "id": "f9cae53b",
   "metadata": {},
   "outputs": [
    {
     "data": {
      "text/plain": [
       "3"
      ]
     },
     "execution_count": 76,
     "metadata": {},
     "output_type": "execute_result"
    }
   ],
   "source": [
    "t1[-1]"
   ]
  },
  {
   "cell_type": "markdown",
   "id": "20505365",
   "metadata": {},
   "source": [
    "#### Sets"
   ]
  },
  {
   "cell_type": "markdown",
   "id": "d6d822dd",
   "metadata": {},
   "source": [
    "These are object collections where the elements are unique. Unlike tuples, sets are _mutable_"
   ]
  },
  {
   "cell_type": "code",
   "execution_count": 80,
   "id": "23d61804",
   "metadata": {},
   "outputs": [],
   "source": [
    "s1 = {1, 2, 3, 4, 4}"
   ]
  },
  {
   "cell_type": "code",
   "execution_count": 81,
   "id": "c4704140",
   "metadata": {},
   "outputs": [
    {
     "data": {
      "text/plain": [
       "{1, 2, 3, 4}"
      ]
     },
     "execution_count": 81,
     "metadata": {},
     "output_type": "execute_result"
    }
   ],
   "source": [
    "s1"
   ]
  },
  {
   "cell_type": "code",
   "execution_count": 82,
   "id": "a7d62e28",
   "metadata": {},
   "outputs": [],
   "source": [
    "s1.add(5)"
   ]
  },
  {
   "cell_type": "code",
   "execution_count": 83,
   "id": "f4bbe788",
   "metadata": {},
   "outputs": [],
   "source": [
    "s1.remove(5)"
   ]
  },
  {
   "cell_type": "markdown",
   "id": "b97c61c5",
   "metadata": {},
   "source": [
    "#### Dictionaries"
   ]
  },
  {
   "cell_type": "code",
   "execution_count": 86,
   "id": "f742548c",
   "metadata": {},
   "outputs": [],
   "source": [
    "d1 = {'fruit':'banana', 'vegatable':'sprout'}"
   ]
  },
  {
   "cell_type": "code",
   "execution_count": 87,
   "id": "0382837f",
   "metadata": {},
   "outputs": [
    {
     "data": {
      "text/plain": [
       "'banana'"
      ]
     },
     "execution_count": 87,
     "metadata": {},
     "output_type": "execute_result"
    }
   ],
   "source": [
    "d1['fruit']"
   ]
  },
  {
   "cell_type": "code",
   "execution_count": 89,
   "id": "331e487e",
   "metadata": {},
   "outputs": [
    {
     "data": {
      "text/plain": [
       "dict_keys(['fruit', 'vegatable'])"
      ]
     },
     "execution_count": 89,
     "metadata": {},
     "output_type": "execute_result"
    }
   ],
   "source": [
    "d1.keys()"
   ]
  },
  {
   "cell_type": "code",
   "execution_count": 88,
   "id": "0959508a",
   "metadata": {},
   "outputs": [
    {
     "data": {
      "text/plain": [
       "dict_values(['banana', 'sprout'])"
      ]
     },
     "execution_count": 88,
     "metadata": {},
     "output_type": "execute_result"
    }
   ],
   "source": [
    "d1.values()"
   ]
  },
  {
   "cell_type": "code",
   "execution_count": 90,
   "id": "1ea98ef0",
   "metadata": {},
   "outputs": [
    {
     "data": {
      "text/plain": [
       "True"
      ]
     },
     "execution_count": 90,
     "metadata": {},
     "output_type": "execute_result"
    }
   ],
   "source": [
    "'banana' in d1.values()"
   ]
  },
  {
   "cell_type": "code",
   "execution_count": 91,
   "id": "9904ee14",
   "metadata": {},
   "outputs": [
    {
     "data": {
      "text/plain": [
       "False"
      ]
     },
     "execution_count": 91,
     "metadata": {},
     "output_type": "execute_result"
    }
   ],
   "source": [
    "'banana' in d1.keys()"
   ]
  },
  {
   "cell_type": "code",
   "execution_count": 92,
   "id": "5ae7b789",
   "metadata": {},
   "outputs": [
    {
     "data": {
      "text/plain": [
       "True"
      ]
     },
     "execution_count": 92,
     "metadata": {},
     "output_type": "execute_result"
    }
   ],
   "source": [
    "'banana' not in d1.keys()"
   ]
  },
  {
   "cell_type": "markdown",
   "id": "30b21826",
   "metadata": {},
   "source": [
    "#### Booleans"
   ]
  },
  {
   "cell_type": "code",
   "execution_count": 93,
   "id": "19ffa306",
   "metadata": {},
   "outputs": [
    {
     "data": {
      "text/plain": [
       "True"
      ]
     },
     "execution_count": 93,
     "metadata": {},
     "output_type": "execute_result"
    }
   ],
   "source": [
    "1 == 1"
   ]
  },
  {
   "cell_type": "code",
   "execution_count": 94,
   "id": "e8f10386",
   "metadata": {},
   "outputs": [
    {
     "data": {
      "text/plain": [
       "False"
      ]
     },
     "execution_count": 94,
     "metadata": {},
     "output_type": "execute_result"
    }
   ],
   "source": [
    "1 != 1"
   ]
  },
  {
   "cell_type": "code",
   "execution_count": 95,
   "id": "e1cc4079",
   "metadata": {},
   "outputs": [
    {
     "data": {
      "text/plain": [
       "True"
      ]
     },
     "execution_count": 95,
     "metadata": {},
     "output_type": "execute_result"
    }
   ],
   "source": [
    "1 >= 1"
   ]
  },
  {
   "cell_type": "code",
   "execution_count": 96,
   "id": "10d60db0",
   "metadata": {},
   "outputs": [
    {
     "data": {
      "text/plain": [
       "True"
      ]
     },
     "execution_count": 96,
     "metadata": {},
     "output_type": "execute_result"
    }
   ],
   "source": [
    "1 <= 1"
   ]
  },
  {
   "cell_type": "code",
   "execution_count": 97,
   "id": "fa01656b",
   "metadata": {},
   "outputs": [
    {
     "data": {
      "text/plain": [
       "False"
      ]
     },
     "execution_count": 97,
     "metadata": {},
     "output_type": "execute_result"
    }
   ],
   "source": [
    "1 == 1 & 2 ==1 "
   ]
  },
  {
   "cell_type": "code",
   "execution_count": 98,
   "id": "bef13126",
   "metadata": {},
   "outputs": [
    {
     "data": {
      "text/plain": [
       "False"
      ]
     },
     "execution_count": 98,
     "metadata": {},
     "output_type": "execute_result"
    }
   ],
   "source": [
    "1 == 1 & 2 == 2"
   ]
  },
  {
   "cell_type": "code",
   "execution_count": 102,
   "id": "6386d7fe",
   "metadata": {},
   "outputs": [
    {
     "data": {
      "text/plain": [
       "False"
      ]
     },
     "execution_count": 102,
     "metadata": {},
     "output_type": "execute_result"
    }
   ],
   "source": [
    "1 == 1 | 2 == 2"
   ]
  },
  {
   "cell_type": "code",
   "execution_count": 104,
   "id": "3a9b65ce",
   "metadata": {},
   "outputs": [
    {
     "data": {
      "text/plain": [
       "False"
      ]
     },
     "execution_count": 104,
     "metadata": {},
     "output_type": "execute_result"
    }
   ],
   "source": [
    "# Get the opposite of the boolean \n",
    "not(1==1)"
   ]
  },
  {
   "cell_type": "code",
   "execution_count": 105,
   "id": "eadaa7c5",
   "metadata": {},
   "outputs": [
    {
     "name": "stdout",
     "output_type": "stream",
     "text": [
      "Hello world!\n"
     ]
    }
   ],
   "source": [
    "## Decision making (if/else statements)\n",
    "if 1 == 1:\n",
    "    print(\"Hello world!\")"
   ]
  },
  {
   "cell_type": "code",
   "execution_count": 107,
   "id": "07461554",
   "metadata": {},
   "outputs": [
    {
     "name": "stdout",
     "output_type": "stream",
     "text": [
      "The numbers are equal\n"
     ]
    }
   ],
   "source": [
    "if 1 != 1:\n",
    "    print('They are not equal')\n",
    "else:\n",
    "    print('The numbers are equal')"
   ]
  },
  {
   "cell_type": "code",
   "execution_count": 108,
   "id": "2f32830f",
   "metadata": {},
   "outputs": [
    {
     "name": "stdout",
     "output_type": "stream",
     "text": [
      "The numbers are equal\n"
     ]
    }
   ],
   "source": [
    "if 1 != 1:\n",
    "    print('They are not equal')\n",
    "else:\n",
    "    print('The numbers are equal')"
   ]
  },
  {
   "cell_type": "code",
   "execution_count": 110,
   "id": "baab9e07",
   "metadata": {},
   "outputs": [
    {
     "name": "stdout",
     "output_type": "stream",
     "text": [
      "1 is 1\n"
     ]
    }
   ],
   "source": [
    "x = 1\n",
    "\n",
    "if x == 0:\n",
    "    print(f\"{x} is 0\")\n",
    "elif x == 1:\n",
    "    print(f\"{x} is 1\")\n",
    "else:\n",
    "    print(f\"{x} is not defined\")"
   ]
  },
  {
   "cell_type": "code",
   "execution_count": null,
   "id": "057bfab1",
   "metadata": {},
   "outputs": [],
   "source": []
  }
 ],
 "metadata": {
  "kernelspec": {
   "display_name": "Python 3 (ipykernel)",
   "language": "python",
   "name": "python3"
  },
  "language_info": {
   "codemirror_mode": {
    "name": "ipython",
    "version": 3
   },
   "file_extension": ".py",
   "mimetype": "text/x-python",
   "name": "python",
   "nbconvert_exporter": "python",
   "pygments_lexer": "ipython3",
   "version": "3.9.7"
  }
 },
 "nbformat": 4,
 "nbformat_minor": 5
}
