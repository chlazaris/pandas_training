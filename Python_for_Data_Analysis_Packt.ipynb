{
 "cells": [
  {
   "cell_type": "markdown",
   "id": "a1b7613c",
   "metadata": {},
   "source": [
    "## Python Crash Course"
   ]
  },
  {
   "cell_type": "markdown",
   "id": "60b9557e",
   "metadata": {},
   "source": [
    "### Numerical operations, strings, common functions, and methods"
   ]
  },
  {
   "cell_type": "markdown",
   "id": "e7e581e0",
   "metadata": {},
   "source": [
    "#### Numerical operations"
   ]
  },
  {
   "cell_type": "code",
   "execution_count": 1,
   "id": "d3690ccb",
   "metadata": {},
   "outputs": [
    {
     "data": {
      "text/plain": [
       "2"
      ]
     },
     "execution_count": 1,
     "metadata": {},
     "output_type": "execute_result"
    }
   ],
   "source": [
    "# Addition\n",
    "1+1"
   ]
  },
  {
   "cell_type": "code",
   "execution_count": 2,
   "id": "1c711c72",
   "metadata": {},
   "outputs": [
    {
     "data": {
      "text/plain": [
       "0"
      ]
     },
     "execution_count": 2,
     "metadata": {},
     "output_type": "execute_result"
    }
   ],
   "source": [
    "# Subtraction\n",
    "1-1"
   ]
  },
  {
   "cell_type": "code",
   "execution_count": 3,
   "id": "9eb3533d",
   "metadata": {},
   "outputs": [
    {
     "data": {
      "text/plain": [
       "1.0"
      ]
     },
     "execution_count": 3,
     "metadata": {},
     "output_type": "execute_result"
    }
   ],
   "source": [
    "# Division\n",
    "1/1"
   ]
  },
  {
   "cell_type": "code",
   "execution_count": 4,
   "id": "0e94b382",
   "metadata": {},
   "outputs": [
    {
     "data": {
      "text/plain": [
       "3"
      ]
     },
     "execution_count": 4,
     "metadata": {},
     "output_type": "execute_result"
    }
   ],
   "source": [
    "# Multiplication\n",
    "1*3"
   ]
  },
  {
   "cell_type": "code",
   "execution_count": 5,
   "id": "6dfaedfe",
   "metadata": {},
   "outputs": [
    {
     "data": {
      "text/plain": [
       "27"
      ]
     },
     "execution_count": 5,
     "metadata": {},
     "output_type": "execute_result"
    }
   ],
   "source": [
    "# Raising a number to a power\n",
    "3**3"
   ]
  },
  {
   "cell_type": "code",
   "execution_count": 6,
   "id": "795a2823",
   "metadata": {},
   "outputs": [
    {
     "data": {
      "text/plain": [
       "1"
      ]
     },
     "execution_count": 6,
     "metadata": {},
     "output_type": "execute_result"
    }
   ],
   "source": [
    "# Getting the remainder\n",
    "9%2"
   ]
  },
  {
   "cell_type": "markdown",
   "id": "1da46381",
   "metadata": {},
   "source": [
    "#### Strings"
   ]
  },
  {
   "cell_type": "code",
   "execution_count": 7,
   "id": "9c674308",
   "metadata": {},
   "outputs": [
    {
     "name": "stdout",
     "output_type": "stream",
     "text": [
      "Hello world!\n"
     ]
    }
   ],
   "source": [
    "greeting = 'Hello'\n",
    "print(f\"{greeting} world!\")"
   ]
  },
  {
   "cell_type": "code",
   "execution_count": 8,
   "id": "548818ac",
   "metadata": {},
   "outputs": [
    {
     "name": "stdout",
     "output_type": "stream",
     "text": [
      "What are you studying? Data Science\n"
     ]
    }
   ],
   "source": [
    "# String concatenation\n",
    "question = 'What are you studying?'\n",
    "answer = 'Data Science'\n",
    "print(question + ' ' + answer)"
   ]
  },
  {
   "cell_type": "code",
   "execution_count": 9,
   "id": "6b3125bf",
   "metadata": {},
   "outputs": [
    {
     "data": {
      "text/plain": [
       "str"
      ]
     },
     "execution_count": 9,
     "metadata": {},
     "output_type": "execute_result"
    }
   ],
   "source": [
    "type(question)"
   ]
  },
  {
   "cell_type": "code",
   "execution_count": 10,
   "id": "a404d115",
   "metadata": {},
   "outputs": [
    {
     "data": {
      "text/plain": [
       "22"
      ]
     },
     "execution_count": 10,
     "metadata": {},
     "output_type": "execute_result"
    }
   ],
   "source": [
    "len(question)"
   ]
  },
  {
   "cell_type": "code",
   "execution_count": 11,
   "id": "ad25252d",
   "metadata": {},
   "outputs": [
    {
     "name": "stdout",
     "output_type": "stream",
     "text": [
      "D\n",
      "t\n",
      "S\n",
      "e\n"
     ]
    }
   ],
   "source": [
    "print(answer[0])\n",
    "print(answer[2])\n",
    "print(answer[5])\n",
    "print(answer[-1])"
   ]
  },
  {
   "cell_type": "markdown",
   "id": "82653191",
   "metadata": {},
   "source": [
    "#### String methods"
   ]
  },
  {
   "cell_type": "code",
   "execution_count": 12,
   "id": "9b1b64e2",
   "metadata": {},
   "outputs": [
    {
     "data": {
      "text/plain": [
       "'DATA SCIENCE'"
      ]
     },
     "execution_count": 12,
     "metadata": {},
     "output_type": "execute_result"
    }
   ],
   "source": [
    "answer.upper()"
   ]
  },
  {
   "cell_type": "code",
   "execution_count": 13,
   "id": "69806d55",
   "metadata": {},
   "outputs": [
    {
     "data": {
      "text/plain": [
       "'data science'"
      ]
     },
     "execution_count": 13,
     "metadata": {},
     "output_type": "execute_result"
    }
   ],
   "source": [
    "answer.lower()"
   ]
  },
  {
   "cell_type": "code",
   "execution_count": 14,
   "id": "a4694fed",
   "metadata": {},
   "outputs": [
    {
     "data": {
      "text/plain": [
       "'Data science'"
      ]
     },
     "execution_count": 14,
     "metadata": {},
     "output_type": "execute_result"
    }
   ],
   "source": [
    "answer.capitalize()"
   ]
  },
  {
   "cell_type": "code",
   "execution_count": 15,
   "id": "ecc8ae6f",
   "metadata": {},
   "outputs": [
    {
     "data": {
      "text/plain": [
       "'Data Science'"
      ]
     },
     "execution_count": 15,
     "metadata": {},
     "output_type": "execute_result"
    }
   ],
   "source": [
    "answer.title()"
   ]
  },
  {
   "cell_type": "code",
   "execution_count": 16,
   "id": "67124252",
   "metadata": {},
   "outputs": [
    {
     "data": {
      "text/plain": [
       "'dATA sCIENCE'"
      ]
     },
     "execution_count": 16,
     "metadata": {},
     "output_type": "execute_result"
    }
   ],
   "source": [
    "answer.swapcase()"
   ]
  },
  {
   "cell_type": "code",
   "execution_count": 17,
   "id": "5d2361a3",
   "metadata": {},
   "outputs": [
    {
     "data": {
      "text/plain": [
       "2"
      ]
     },
     "execution_count": 17,
     "metadata": {},
     "output_type": "execute_result"
    }
   ],
   "source": [
    "answer.find('t')"
   ]
  },
  {
   "cell_type": "code",
   "execution_count": 18,
   "id": "3168010b",
   "metadata": {},
   "outputs": [],
   "source": [
    "index = answer.find('Science')"
   ]
  },
  {
   "cell_type": "code",
   "execution_count": 19,
   "id": "7faa1eb2",
   "metadata": {},
   "outputs": [
    {
     "data": {
      "text/plain": [
       "'Science'"
      ]
     },
     "execution_count": 19,
     "metadata": {},
     "output_type": "execute_result"
    }
   ],
   "source": [
    "answer[index:]"
   ]
  },
  {
   "cell_type": "code",
   "execution_count": 20,
   "id": "6e1391e9",
   "metadata": {},
   "outputs": [],
   "source": [
    "greeting = \"Hello there, how are you today?\""
   ]
  },
  {
   "cell_type": "code",
   "execution_count": 21,
   "id": "2c04eab5",
   "metadata": {},
   "outputs": [
    {
     "data": {
      "text/plain": [
       "'?yadot uoy era woh ,ereht olleH'"
      ]
     },
     "execution_count": 21,
     "metadata": {},
     "output_type": "execute_result"
    }
   ],
   "source": [
    "greeting[::-1]"
   ]
  },
  {
   "cell_type": "code",
   "execution_count": 22,
   "id": "65a56bb8",
   "metadata": {},
   "outputs": [
    {
     "data": {
      "text/plain": [
       "'?yadot uoy era woh ,ereht olleH'"
      ]
     },
     "execution_count": 22,
     "metadata": {},
     "output_type": "execute_result"
    }
   ],
   "source": [
    "\"\".join(reversed(greeting))"
   ]
  },
  {
   "cell_type": "code",
   "execution_count": 23,
   "id": "5c84a2a8",
   "metadata": {},
   "outputs": [
    {
     "name": "stdout",
     "output_type": "stream",
     "text": [
      "1\n"
     ]
    }
   ],
   "source": [
    "### Lists, tuples\n",
    "l1 = [1, 2, 3]\n",
    "l2 = [1, 'hello', 'test', 2.6]\n",
    "print(l1[0])"
   ]
  },
  {
   "cell_type": "code",
   "execution_count": 24,
   "id": "9ab51061",
   "metadata": {},
   "outputs": [],
   "source": [
    "# Add an element to a list\n",
    "l1.append(4)"
   ]
  },
  {
   "cell_type": "code",
   "execution_count": 25,
   "id": "986c8244",
   "metadata": {},
   "outputs": [
    {
     "data": {
      "text/plain": [
       "[1, 2, 3, 4]"
      ]
     },
     "execution_count": 25,
     "metadata": {},
     "output_type": "execute_result"
    }
   ],
   "source": [
    "l1"
   ]
  },
  {
   "cell_type": "code",
   "execution_count": 26,
   "id": "fdb3c8d4",
   "metadata": {},
   "outputs": [
    {
     "data": {
      "text/plain": [
       "4"
      ]
     },
     "execution_count": 26,
     "metadata": {},
     "output_type": "execute_result"
    }
   ],
   "source": [
    "# Remove the last element of the list\n",
    "l1.pop()"
   ]
  },
  {
   "cell_type": "code",
   "execution_count": 27,
   "id": "e94e1621",
   "metadata": {},
   "outputs": [],
   "source": [
    "# Insert a certain element in a certain position\n",
    "l1.insert(4,2)"
   ]
  },
  {
   "cell_type": "code",
   "execution_count": 28,
   "id": "eb88416a",
   "metadata": {},
   "outputs": [
    {
     "data": {
      "text/plain": [
       "[1, 2, 3, 2]"
      ]
     },
     "execution_count": 28,
     "metadata": {},
     "output_type": "execute_result"
    }
   ],
   "source": [
    "l1"
   ]
  },
  {
   "cell_type": "code",
   "execution_count": 29,
   "id": "a912c9f8",
   "metadata": {},
   "outputs": [
    {
     "data": {
      "text/plain": [
       "[2, 3, 2, 1]"
      ]
     },
     "execution_count": 29,
     "metadata": {},
     "output_type": "execute_result"
    }
   ],
   "source": [
    "# Reverse the contents of the list\n",
    "l1[::-1]"
   ]
  },
  {
   "cell_type": "code",
   "execution_count": 30,
   "id": "d61fa7ad",
   "metadata": {},
   "outputs": [],
   "source": [
    "# reverse the contents of the list in place\n",
    "l1.reverse()"
   ]
  },
  {
   "cell_type": "code",
   "execution_count": 31,
   "id": "403a6c3c",
   "metadata": {},
   "outputs": [
    {
     "data": {
      "text/plain": [
       "[2, 3, 2, 1]"
      ]
     },
     "execution_count": 31,
     "metadata": {},
     "output_type": "execute_result"
    }
   ],
   "source": [
    "l1"
   ]
  },
  {
   "cell_type": "code",
   "execution_count": 32,
   "id": "0d626d0b",
   "metadata": {},
   "outputs": [],
   "source": [
    "# Sort the list\n",
    "l1.sort()"
   ]
  },
  {
   "cell_type": "code",
   "execution_count": 33,
   "id": "1ecd0649",
   "metadata": {},
   "outputs": [
    {
     "data": {
      "text/plain": [
       "[1, 2, 2, 3]"
      ]
     },
     "execution_count": 33,
     "metadata": {},
     "output_type": "execute_result"
    }
   ],
   "source": [
    "l1"
   ]
  },
  {
   "cell_type": "code",
   "execution_count": 34,
   "id": "5663ad1e",
   "metadata": {},
   "outputs": [
    {
     "data": {
      "text/plain": [
       "3"
      ]
     },
     "execution_count": 34,
     "metadata": {},
     "output_type": "execute_result"
    }
   ],
   "source": [
    "# Get the minimum and maximum values\n",
    "min(l1)\n",
    "max(l1)"
   ]
  },
  {
   "cell_type": "markdown",
   "id": "390043bc",
   "metadata": {},
   "source": [
    "#### Tuples"
   ]
  },
  {
   "cell_type": "markdown",
   "id": "74e957e1",
   "metadata": {},
   "source": [
    "These are object collections like lists but they are _immutable_"
   ]
  },
  {
   "cell_type": "code",
   "execution_count": 35,
   "id": "9b014518",
   "metadata": {},
   "outputs": [],
   "source": [
    "t1 = (1, 2, 3)"
   ]
  },
  {
   "cell_type": "code",
   "execution_count": 36,
   "id": "e9896509",
   "metadata": {},
   "outputs": [
    {
     "data": {
      "text/plain": [
       "1"
      ]
     },
     "execution_count": 36,
     "metadata": {},
     "output_type": "execute_result"
    }
   ],
   "source": [
    "t1[0]"
   ]
  },
  {
   "cell_type": "code",
   "execution_count": 37,
   "id": "5136fb4d",
   "metadata": {},
   "outputs": [
    {
     "data": {
      "text/plain": [
       "3"
      ]
     },
     "execution_count": 37,
     "metadata": {},
     "output_type": "execute_result"
    }
   ],
   "source": [
    "t1[-1]"
   ]
  },
  {
   "cell_type": "markdown",
   "id": "d2bb7832",
   "metadata": {},
   "source": [
    "#### Sets"
   ]
  },
  {
   "cell_type": "markdown",
   "id": "259e6dc0",
   "metadata": {},
   "source": [
    "These are object collections where the elements are unique. Unlike tuples, sets are _mutable_"
   ]
  },
  {
   "cell_type": "code",
   "execution_count": 38,
   "id": "4c14935b",
   "metadata": {},
   "outputs": [],
   "source": [
    "s1 = {1, 2, 3, 4, 4}"
   ]
  },
  {
   "cell_type": "code",
   "execution_count": 39,
   "id": "51c9676a",
   "metadata": {},
   "outputs": [
    {
     "data": {
      "text/plain": [
       "{1, 2, 3, 4}"
      ]
     },
     "execution_count": 39,
     "metadata": {},
     "output_type": "execute_result"
    }
   ],
   "source": [
    "s1"
   ]
  },
  {
   "cell_type": "code",
   "execution_count": 40,
   "id": "7764fa3c",
   "metadata": {},
   "outputs": [],
   "source": [
    "s1.add(5)"
   ]
  },
  {
   "cell_type": "code",
   "execution_count": 41,
   "id": "36462a33",
   "metadata": {},
   "outputs": [],
   "source": [
    "s1.remove(5)"
   ]
  },
  {
   "cell_type": "markdown",
   "id": "7938ebcc",
   "metadata": {},
   "source": [
    "#### Dictionaries"
   ]
  },
  {
   "cell_type": "code",
   "execution_count": 42,
   "id": "bb68cc09",
   "metadata": {},
   "outputs": [],
   "source": [
    "d1 = {'fruit':'banana', 'vegatable':'sprout'}"
   ]
  },
  {
   "cell_type": "code",
   "execution_count": 43,
   "id": "16697f6c",
   "metadata": {},
   "outputs": [
    {
     "data": {
      "text/plain": [
       "'banana'"
      ]
     },
     "execution_count": 43,
     "metadata": {},
     "output_type": "execute_result"
    }
   ],
   "source": [
    "d1['fruit']"
   ]
  },
  {
   "cell_type": "code",
   "execution_count": 44,
   "id": "2714e9cb",
   "metadata": {},
   "outputs": [
    {
     "data": {
      "text/plain": [
       "dict_keys(['fruit', 'vegatable'])"
      ]
     },
     "execution_count": 44,
     "metadata": {},
     "output_type": "execute_result"
    }
   ],
   "source": [
    "d1.keys()"
   ]
  },
  {
   "cell_type": "code",
   "execution_count": 45,
   "id": "b2d6f432",
   "metadata": {},
   "outputs": [
    {
     "data": {
      "text/plain": [
       "dict_values(['banana', 'sprout'])"
      ]
     },
     "execution_count": 45,
     "metadata": {},
     "output_type": "execute_result"
    }
   ],
   "source": [
    "d1.values()"
   ]
  },
  {
   "cell_type": "code",
   "execution_count": 46,
   "id": "966da875",
   "metadata": {},
   "outputs": [
    {
     "data": {
      "text/plain": [
       "True"
      ]
     },
     "execution_count": 46,
     "metadata": {},
     "output_type": "execute_result"
    }
   ],
   "source": [
    "'banana' in d1.values()"
   ]
  },
  {
   "cell_type": "code",
   "execution_count": 47,
   "id": "9e893658",
   "metadata": {},
   "outputs": [
    {
     "data": {
      "text/plain": [
       "False"
      ]
     },
     "execution_count": 47,
     "metadata": {},
     "output_type": "execute_result"
    }
   ],
   "source": [
    "'banana' in d1.keys()"
   ]
  },
  {
   "cell_type": "code",
   "execution_count": 48,
   "id": "80c4e85f",
   "metadata": {},
   "outputs": [
    {
     "data": {
      "text/plain": [
       "True"
      ]
     },
     "execution_count": 48,
     "metadata": {},
     "output_type": "execute_result"
    }
   ],
   "source": [
    "'banana' not in d1.keys()"
   ]
  },
  {
   "cell_type": "markdown",
   "id": "2336637b",
   "metadata": {},
   "source": [
    "#### Booleans"
   ]
  },
  {
   "cell_type": "code",
   "execution_count": 49,
   "id": "fa338a71",
   "metadata": {},
   "outputs": [
    {
     "data": {
      "text/plain": [
       "True"
      ]
     },
     "execution_count": 49,
     "metadata": {},
     "output_type": "execute_result"
    }
   ],
   "source": [
    "1 == 1"
   ]
  },
  {
   "cell_type": "code",
   "execution_count": 50,
   "id": "35be81cd",
   "metadata": {},
   "outputs": [
    {
     "data": {
      "text/plain": [
       "False"
      ]
     },
     "execution_count": 50,
     "metadata": {},
     "output_type": "execute_result"
    }
   ],
   "source": [
    "1 != 1"
   ]
  },
  {
   "cell_type": "code",
   "execution_count": 51,
   "id": "55c74c4a",
   "metadata": {},
   "outputs": [
    {
     "data": {
      "text/plain": [
       "True"
      ]
     },
     "execution_count": 51,
     "metadata": {},
     "output_type": "execute_result"
    }
   ],
   "source": [
    "1 >= 1"
   ]
  },
  {
   "cell_type": "code",
   "execution_count": 52,
   "id": "b9960634",
   "metadata": {},
   "outputs": [
    {
     "data": {
      "text/plain": [
       "True"
      ]
     },
     "execution_count": 52,
     "metadata": {},
     "output_type": "execute_result"
    }
   ],
   "source": [
    "1 <= 1"
   ]
  },
  {
   "cell_type": "code",
   "execution_count": 53,
   "id": "62f3e59b",
   "metadata": {},
   "outputs": [
    {
     "data": {
      "text/plain": [
       "False"
      ]
     },
     "execution_count": 53,
     "metadata": {},
     "output_type": "execute_result"
    }
   ],
   "source": [
    "1 == 1 & 2 ==1 "
   ]
  },
  {
   "cell_type": "code",
   "execution_count": 54,
   "id": "d1a8e4e2",
   "metadata": {},
   "outputs": [
    {
     "data": {
      "text/plain": [
       "False"
      ]
     },
     "execution_count": 54,
     "metadata": {},
     "output_type": "execute_result"
    }
   ],
   "source": [
    "1 == 1 & 2 == 2"
   ]
  },
  {
   "cell_type": "code",
   "execution_count": 55,
   "id": "d9fb578f",
   "metadata": {},
   "outputs": [
    {
     "data": {
      "text/plain": [
       "False"
      ]
     },
     "execution_count": 55,
     "metadata": {},
     "output_type": "execute_result"
    }
   ],
   "source": [
    "1 == 1 | 2 == 2"
   ]
  },
  {
   "cell_type": "code",
   "execution_count": 56,
   "id": "21452dd0",
   "metadata": {},
   "outputs": [
    {
     "data": {
      "text/plain": [
       "False"
      ]
     },
     "execution_count": 56,
     "metadata": {},
     "output_type": "execute_result"
    }
   ],
   "source": [
    "# Get the opposite of the boolean \n",
    "not(1==1)"
   ]
  },
  {
   "cell_type": "code",
   "execution_count": 57,
   "id": "7679f316",
   "metadata": {},
   "outputs": [
    {
     "name": "stdout",
     "output_type": "stream",
     "text": [
      "Hello world!\n"
     ]
    }
   ],
   "source": [
    "## Decision making (if/else statements)\n",
    "if 1 == 1:\n",
    "    print(\"Hello world!\")"
   ]
  },
  {
   "cell_type": "code",
   "execution_count": 58,
   "id": "db6baaae",
   "metadata": {},
   "outputs": [
    {
     "name": "stdout",
     "output_type": "stream",
     "text": [
      "The numbers are equal\n"
     ]
    }
   ],
   "source": [
    "if 1 != 1:\n",
    "    print('They are not equal')\n",
    "else:\n",
    "    print('The numbers are equal')"
   ]
  },
  {
   "cell_type": "code",
   "execution_count": 59,
   "id": "caa43082",
   "metadata": {},
   "outputs": [
    {
     "name": "stdout",
     "output_type": "stream",
     "text": [
      "The numbers are equal\n"
     ]
    }
   ],
   "source": [
    "if 1 != 1:\n",
    "    print('They are not equal')\n",
    "else:\n",
    "    print('The numbers are equal')"
   ]
  },
  {
   "cell_type": "code",
   "execution_count": 60,
   "id": "3784be48",
   "metadata": {},
   "outputs": [
    {
     "name": "stdout",
     "output_type": "stream",
     "text": [
      "1 is 1\n"
     ]
    }
   ],
   "source": [
    "x = 1\n",
    "\n",
    "if x == 0:\n",
    "    print(f\"{x} is 0\")\n",
    "elif x == 1:\n",
    "    print(f\"{x} is 1\")\n",
    "else:\n",
    "    print(f\"{x} is not defined\")"
   ]
  },
  {
   "cell_type": "markdown",
   "id": "fb9df584",
   "metadata": {},
   "source": [
    "## Importing data"
   ]
  },
  {
   "cell_type": "markdown",
   "id": "2134729b",
   "metadata": {},
   "source": [
    "### Pandas Data Structures Overview"
   ]
  },
  {
   "cell_type": "markdown",
   "id": "8cf621d7",
   "metadata": {},
   "source": [
    "### Series"
   ]
  },
  {
   "cell_type": "code",
   "execution_count": 61,
   "id": "61b8e8d9",
   "metadata": {},
   "outputs": [
    {
     "data": {
      "text/plain": [
       "0    1\n",
       "1    2\n",
       "2    3\n",
       "3    4\n",
       "4    5\n",
       "5    6\n",
       "6    7\n",
       "dtype: int64"
      ]
     },
     "execution_count": 61,
     "metadata": {},
     "output_type": "execute_result"
    }
   ],
   "source": [
    "import pandas as pd\n",
    "s = pd.Series([1,2,3,4,5,6,7])\n",
    "s"
   ]
  },
  {
   "cell_type": "code",
   "execution_count": 62,
   "id": "937554e5",
   "metadata": {},
   "outputs": [
    {
     "data": {
      "text/plain": [
       "Monday       1\n",
       "Tuesday      2\n",
       "Wednesday    3\n",
       "Thursday     4\n",
       "Friday       5\n",
       "Saturday     6\n",
       "Sunday       7\n",
       "dtype: int64"
      ]
     },
     "execution_count": 62,
     "metadata": {},
     "output_type": "execute_result"
    }
   ],
   "source": [
    "# Creating and index\n",
    "index = ['Monday', 'Tuesday','Wednesday', 'Thursday', 'Friday', 'Saturday', 'Sunday']\n",
    "index\n",
    "s = pd.Series([1,2,3,4,5,6,7], index=index)\n",
    "s"
   ]
  },
  {
   "cell_type": "code",
   "execution_count": 63,
   "id": "b715fee2",
   "metadata": {},
   "outputs": [
    {
     "name": "stdout",
     "output_type": "stream",
     "text": [
      "Monday        2\n",
      "Tuesday       4\n",
      "Wednesday     6\n",
      "Thursday      8\n",
      "Friday       10\n",
      "Saturday     12\n",
      "Sunday       14\n",
      "dtype: int64\n",
      "Monday        3\n",
      "Tuesday       6\n",
      "Wednesday     9\n",
      "Thursday     12\n",
      "Friday       15\n",
      "Saturday     18\n",
      "Sunday       21\n",
      "dtype: int64\n",
      "Monday        1\n",
      "Tuesday       4\n",
      "Wednesday     9\n",
      "Thursday     16\n",
      "Friday       25\n",
      "Saturday     36\n",
      "Sunday       49\n",
      "dtype: int64\n"
     ]
    }
   ],
   "source": [
    "# Basic operations on Series\n",
    "print(s + s)\n",
    "print(s * 3)\n",
    "print(s ** 2)"
   ]
  },
  {
   "cell_type": "markdown",
   "id": "3a58ea60",
   "metadata": {},
   "source": [
    "### Dataframes"
   ]
  },
  {
   "cell_type": "code",
   "execution_count": 64,
   "id": "5bd2927e",
   "metadata": {},
   "outputs": [
    {
     "data": {
      "text/html": [
       "<div>\n",
       "<style scoped>\n",
       "    .dataframe tbody tr th:only-of-type {\n",
       "        vertical-align: middle;\n",
       "    }\n",
       "\n",
       "    .dataframe tbody tr th {\n",
       "        vertical-align: top;\n",
       "    }\n",
       "\n",
       "    .dataframe thead th {\n",
       "        text-align: right;\n",
       "    }\n",
       "</style>\n",
       "<table border=\"1\" class=\"dataframe\">\n",
       "  <thead>\n",
       "    <tr style=\"text-align: right;\">\n",
       "      <th></th>\n",
       "      <th>0</th>\n",
       "    </tr>\n",
       "  </thead>\n",
       "  <tbody>\n",
       "    <tr>\n",
       "      <th>0</th>\n",
       "      <td>1</td>\n",
       "    </tr>\n",
       "    <tr>\n",
       "      <th>1</th>\n",
       "      <td>2</td>\n",
       "    </tr>\n",
       "    <tr>\n",
       "      <th>2</th>\n",
       "      <td>3</td>\n",
       "    </tr>\n",
       "    <tr>\n",
       "      <th>3</th>\n",
       "      <td>4</td>\n",
       "    </tr>\n",
       "  </tbody>\n",
       "</table>\n",
       "</div>"
      ],
      "text/plain": [
       "   0\n",
       "0  1\n",
       "1  2\n",
       "2  3\n",
       "3  4"
      ]
     },
     "execution_count": 64,
     "metadata": {},
     "output_type": "execute_result"
    }
   ],
   "source": [
    "pd.DataFrame([1,2,3,4])"
   ]
  },
  {
   "cell_type": "code",
   "execution_count": 65,
   "id": "fdef35e7",
   "metadata": {},
   "outputs": [],
   "source": [
    "df = pd.DataFrame({'a': [1,2,3,4], 'b':[5,6,7,8]})"
   ]
  },
  {
   "cell_type": "code",
   "execution_count": 66,
   "id": "fafbb156",
   "metadata": {},
   "outputs": [
    {
     "data": {
      "text/html": [
       "<div>\n",
       "<style scoped>\n",
       "    .dataframe tbody tr th:only-of-type {\n",
       "        vertical-align: middle;\n",
       "    }\n",
       "\n",
       "    .dataframe tbody tr th {\n",
       "        vertical-align: top;\n",
       "    }\n",
       "\n",
       "    .dataframe thead th {\n",
       "        text-align: right;\n",
       "    }\n",
       "</style>\n",
       "<table border=\"1\" class=\"dataframe\">\n",
       "  <thead>\n",
       "    <tr style=\"text-align: right;\">\n",
       "      <th></th>\n",
       "      <th>a</th>\n",
       "      <th>b</th>\n",
       "    </tr>\n",
       "  </thead>\n",
       "  <tbody>\n",
       "    <tr>\n",
       "      <th>0</th>\n",
       "      <td>1</td>\n",
       "      <td>5</td>\n",
       "    </tr>\n",
       "    <tr>\n",
       "      <th>1</th>\n",
       "      <td>2</td>\n",
       "      <td>6</td>\n",
       "    </tr>\n",
       "    <tr>\n",
       "      <th>2</th>\n",
       "      <td>3</td>\n",
       "      <td>7</td>\n",
       "    </tr>\n",
       "    <tr>\n",
       "      <th>3</th>\n",
       "      <td>4</td>\n",
       "      <td>8</td>\n",
       "    </tr>\n",
       "  </tbody>\n",
       "</table>\n",
       "</div>"
      ],
      "text/plain": [
       "   a  b\n",
       "0  1  5\n",
       "1  2  6\n",
       "2  3  7\n",
       "3  4  8"
      ]
     },
     "execution_count": 66,
     "metadata": {},
     "output_type": "execute_result"
    }
   ],
   "source": [
    "df"
   ]
  },
  {
   "cell_type": "code",
   "execution_count": 67,
   "id": "a2c9e481",
   "metadata": {},
   "outputs": [
    {
     "data": {
      "text/plain": [
       "6.5"
      ]
     },
     "execution_count": 67,
     "metadata": {},
     "output_type": "execute_result"
    }
   ],
   "source": [
    "df['b'].median()"
   ]
  },
  {
   "cell_type": "code",
   "execution_count": 68,
   "id": "1c95fc93",
   "metadata": {},
   "outputs": [
    {
     "data": {
      "text/plain": [
       "6.5"
      ]
     },
     "execution_count": 68,
     "metadata": {},
     "output_type": "execute_result"
    }
   ],
   "source": [
    "df['b'].mean()"
   ]
  },
  {
   "cell_type": "markdown",
   "id": "4dd41704",
   "metadata": {},
   "source": [
    "### Loading data from external datasources "
   ]
  },
  {
   "cell_type": "code",
   "execution_count": 69,
   "id": "345b5cda",
   "metadata": {},
   "outputs": [],
   "source": [
    "import pandas as pd\n",
    "superpowers = pd.read_csv('/Users/chlazaris/Desktop/Python-for-Data-Analysis-step-by-step-with-projects--main/superhero_powers.csv')"
   ]
  },
  {
   "cell_type": "code",
   "execution_count": 70,
   "id": "c65354f6",
   "metadata": {},
   "outputs": [
    {
     "data": {
      "text/html": [
       "<div>\n",
       "<style scoped>\n",
       "    .dataframe tbody tr th:only-of-type {\n",
       "        vertical-align: middle;\n",
       "    }\n",
       "\n",
       "    .dataframe tbody tr th {\n",
       "        vertical-align: top;\n",
       "    }\n",
       "\n",
       "    .dataframe thead th {\n",
       "        text-align: right;\n",
       "    }\n",
       "</style>\n",
       "<table border=\"1\" class=\"dataframe\">\n",
       "  <thead>\n",
       "    <tr style=\"text-align: right;\">\n",
       "      <th></th>\n",
       "      <th>hero_names</th>\n",
       "      <th>Agility</th>\n",
       "      <th>Accelerated Healing</th>\n",
       "      <th>Lantern Power Ring</th>\n",
       "      <th>Dimensional Awareness</th>\n",
       "      <th>Cold Resistance</th>\n",
       "      <th>Durability</th>\n",
       "      <th>Stealth</th>\n",
       "      <th>Energy Absorption</th>\n",
       "      <th>Flight</th>\n",
       "      <th>...</th>\n",
       "      <th>Web Creation</th>\n",
       "      <th>Reality Warping</th>\n",
       "      <th>Odin Force</th>\n",
       "      <th>Symbiote Costume</th>\n",
       "      <th>Speed Force</th>\n",
       "      <th>Phoenix Force</th>\n",
       "      <th>Molecular Dissipation</th>\n",
       "      <th>Vision - Cryo</th>\n",
       "      <th>Omnipresent</th>\n",
       "      <th>Omniscient</th>\n",
       "    </tr>\n",
       "  </thead>\n",
       "  <tbody>\n",
       "    <tr>\n",
       "      <th>0</th>\n",
       "      <td>3-D Man</td>\n",
       "      <td>True</td>\n",
       "      <td>False</td>\n",
       "      <td>False</td>\n",
       "      <td>False</td>\n",
       "      <td>False</td>\n",
       "      <td>False</td>\n",
       "      <td>False</td>\n",
       "      <td>False</td>\n",
       "      <td>False</td>\n",
       "      <td>...</td>\n",
       "      <td>False</td>\n",
       "      <td>False</td>\n",
       "      <td>False</td>\n",
       "      <td>False</td>\n",
       "      <td>False</td>\n",
       "      <td>False</td>\n",
       "      <td>False</td>\n",
       "      <td>False</td>\n",
       "      <td>False</td>\n",
       "      <td>False</td>\n",
       "    </tr>\n",
       "    <tr>\n",
       "      <th>1</th>\n",
       "      <td>A-Bomb</td>\n",
       "      <td>False</td>\n",
       "      <td>True</td>\n",
       "      <td>False</td>\n",
       "      <td>False</td>\n",
       "      <td>False</td>\n",
       "      <td>True</td>\n",
       "      <td>False</td>\n",
       "      <td>False</td>\n",
       "      <td>False</td>\n",
       "      <td>...</td>\n",
       "      <td>False</td>\n",
       "      <td>False</td>\n",
       "      <td>False</td>\n",
       "      <td>False</td>\n",
       "      <td>False</td>\n",
       "      <td>False</td>\n",
       "      <td>False</td>\n",
       "      <td>False</td>\n",
       "      <td>False</td>\n",
       "      <td>False</td>\n",
       "    </tr>\n",
       "    <tr>\n",
       "      <th>2</th>\n",
       "      <td>Abe Sapien</td>\n",
       "      <td>True</td>\n",
       "      <td>True</td>\n",
       "      <td>False</td>\n",
       "      <td>False</td>\n",
       "      <td>True</td>\n",
       "      <td>True</td>\n",
       "      <td>False</td>\n",
       "      <td>False</td>\n",
       "      <td>False</td>\n",
       "      <td>...</td>\n",
       "      <td>False</td>\n",
       "      <td>False</td>\n",
       "      <td>False</td>\n",
       "      <td>False</td>\n",
       "      <td>False</td>\n",
       "      <td>False</td>\n",
       "      <td>False</td>\n",
       "      <td>False</td>\n",
       "      <td>False</td>\n",
       "      <td>False</td>\n",
       "    </tr>\n",
       "    <tr>\n",
       "      <th>3</th>\n",
       "      <td>Abin Sur</td>\n",
       "      <td>False</td>\n",
       "      <td>False</td>\n",
       "      <td>True</td>\n",
       "      <td>False</td>\n",
       "      <td>False</td>\n",
       "      <td>False</td>\n",
       "      <td>False</td>\n",
       "      <td>False</td>\n",
       "      <td>False</td>\n",
       "      <td>...</td>\n",
       "      <td>False</td>\n",
       "      <td>False</td>\n",
       "      <td>False</td>\n",
       "      <td>False</td>\n",
       "      <td>False</td>\n",
       "      <td>False</td>\n",
       "      <td>False</td>\n",
       "      <td>False</td>\n",
       "      <td>False</td>\n",
       "      <td>False</td>\n",
       "    </tr>\n",
       "    <tr>\n",
       "      <th>4</th>\n",
       "      <td>Abomination</td>\n",
       "      <td>False</td>\n",
       "      <td>True</td>\n",
       "      <td>False</td>\n",
       "      <td>False</td>\n",
       "      <td>False</td>\n",
       "      <td>False</td>\n",
       "      <td>False</td>\n",
       "      <td>False</td>\n",
       "      <td>False</td>\n",
       "      <td>...</td>\n",
       "      <td>False</td>\n",
       "      <td>False</td>\n",
       "      <td>False</td>\n",
       "      <td>False</td>\n",
       "      <td>False</td>\n",
       "      <td>False</td>\n",
       "      <td>False</td>\n",
       "      <td>False</td>\n",
       "      <td>False</td>\n",
       "      <td>False</td>\n",
       "    </tr>\n",
       "  </tbody>\n",
       "</table>\n",
       "<p>5 rows × 168 columns</p>\n",
       "</div>"
      ],
      "text/plain": [
       "    hero_names  Agility  Accelerated Healing  Lantern Power Ring  \\\n",
       "0      3-D Man     True                False               False   \n",
       "1       A-Bomb    False                 True               False   \n",
       "2   Abe Sapien     True                 True               False   \n",
       "3     Abin Sur    False                False                True   \n",
       "4  Abomination    False                 True               False   \n",
       "\n",
       "   Dimensional Awareness  Cold Resistance  Durability  Stealth  \\\n",
       "0                  False            False       False    False   \n",
       "1                  False            False        True    False   \n",
       "2                  False             True        True    False   \n",
       "3                  False            False       False    False   \n",
       "4                  False            False       False    False   \n",
       "\n",
       "   Energy Absorption  Flight  ...  Web Creation  Reality Warping  Odin Force  \\\n",
       "0              False   False  ...         False            False       False   \n",
       "1              False   False  ...         False            False       False   \n",
       "2              False   False  ...         False            False       False   \n",
       "3              False   False  ...         False            False       False   \n",
       "4              False   False  ...         False            False       False   \n",
       "\n",
       "   Symbiote Costume  Speed Force  Phoenix Force  Molecular Dissipation  \\\n",
       "0             False        False          False                  False   \n",
       "1             False        False          False                  False   \n",
       "2             False        False          False                  False   \n",
       "3             False        False          False                  False   \n",
       "4             False        False          False                  False   \n",
       "\n",
       "   Vision - Cryo  Omnipresent  Omniscient  \n",
       "0          False        False       False  \n",
       "1          False        False       False  \n",
       "2          False        False       False  \n",
       "3          False        False       False  \n",
       "4          False        False       False  \n",
       "\n",
       "[5 rows x 168 columns]"
      ]
     },
     "execution_count": 70,
     "metadata": {},
     "output_type": "execute_result"
    }
   ],
   "source": [
    "superpowers.head()"
   ]
  },
  {
   "cell_type": "code",
   "execution_count": 71,
   "id": "236d671b",
   "metadata": {},
   "outputs": [
    {
     "data": {
      "text/html": [
       "<div>\n",
       "<style scoped>\n",
       "    .dataframe tbody tr th:only-of-type {\n",
       "        vertical-align: middle;\n",
       "    }\n",
       "\n",
       "    .dataframe tbody tr th {\n",
       "        vertical-align: top;\n",
       "    }\n",
       "\n",
       "    .dataframe thead th {\n",
       "        text-align: right;\n",
       "    }\n",
       "</style>\n",
       "<table border=\"1\" class=\"dataframe\">\n",
       "  <thead>\n",
       "    <tr style=\"text-align: right;\">\n",
       "      <th></th>\n",
       "      <th>hero_names</th>\n",
       "      <th>Agility</th>\n",
       "      <th>Accelerated Healing</th>\n",
       "      <th>Lantern Power Ring</th>\n",
       "      <th>Dimensional Awareness</th>\n",
       "      <th>Cold Resistance</th>\n",
       "      <th>Durability</th>\n",
       "      <th>Stealth</th>\n",
       "      <th>Energy Absorption</th>\n",
       "      <th>Flight</th>\n",
       "      <th>...</th>\n",
       "      <th>Web Creation</th>\n",
       "      <th>Reality Warping</th>\n",
       "      <th>Odin Force</th>\n",
       "      <th>Symbiote Costume</th>\n",
       "      <th>Speed Force</th>\n",
       "      <th>Phoenix Force</th>\n",
       "      <th>Molecular Dissipation</th>\n",
       "      <th>Vision - Cryo</th>\n",
       "      <th>Omnipresent</th>\n",
       "      <th>Omniscient</th>\n",
       "    </tr>\n",
       "  </thead>\n",
       "  <tbody>\n",
       "    <tr>\n",
       "      <th>662</th>\n",
       "      <td>Yellowjacket II</td>\n",
       "      <td>False</td>\n",
       "      <td>False</td>\n",
       "      <td>False</td>\n",
       "      <td>False</td>\n",
       "      <td>False</td>\n",
       "      <td>False</td>\n",
       "      <td>False</td>\n",
       "      <td>False</td>\n",
       "      <td>True</td>\n",
       "      <td>...</td>\n",
       "      <td>False</td>\n",
       "      <td>False</td>\n",
       "      <td>False</td>\n",
       "      <td>False</td>\n",
       "      <td>False</td>\n",
       "      <td>False</td>\n",
       "      <td>False</td>\n",
       "      <td>False</td>\n",
       "      <td>False</td>\n",
       "      <td>False</td>\n",
       "    </tr>\n",
       "    <tr>\n",
       "      <th>663</th>\n",
       "      <td>Ymir</td>\n",
       "      <td>False</td>\n",
       "      <td>False</td>\n",
       "      <td>False</td>\n",
       "      <td>False</td>\n",
       "      <td>True</td>\n",
       "      <td>True</td>\n",
       "      <td>False</td>\n",
       "      <td>False</td>\n",
       "      <td>False</td>\n",
       "      <td>...</td>\n",
       "      <td>False</td>\n",
       "      <td>False</td>\n",
       "      <td>False</td>\n",
       "      <td>False</td>\n",
       "      <td>False</td>\n",
       "      <td>False</td>\n",
       "      <td>False</td>\n",
       "      <td>False</td>\n",
       "      <td>False</td>\n",
       "      <td>False</td>\n",
       "    </tr>\n",
       "    <tr>\n",
       "      <th>664</th>\n",
       "      <td>Yoda</td>\n",
       "      <td>True</td>\n",
       "      <td>False</td>\n",
       "      <td>False</td>\n",
       "      <td>False</td>\n",
       "      <td>False</td>\n",
       "      <td>False</td>\n",
       "      <td>True</td>\n",
       "      <td>False</td>\n",
       "      <td>False</td>\n",
       "      <td>...</td>\n",
       "      <td>False</td>\n",
       "      <td>False</td>\n",
       "      <td>False</td>\n",
       "      <td>False</td>\n",
       "      <td>False</td>\n",
       "      <td>False</td>\n",
       "      <td>False</td>\n",
       "      <td>False</td>\n",
       "      <td>False</td>\n",
       "      <td>False</td>\n",
       "    </tr>\n",
       "    <tr>\n",
       "      <th>665</th>\n",
       "      <td>Zatanna</td>\n",
       "      <td>False</td>\n",
       "      <td>False</td>\n",
       "      <td>False</td>\n",
       "      <td>False</td>\n",
       "      <td>False</td>\n",
       "      <td>False</td>\n",
       "      <td>False</td>\n",
       "      <td>False</td>\n",
       "      <td>False</td>\n",
       "      <td>...</td>\n",
       "      <td>False</td>\n",
       "      <td>False</td>\n",
       "      <td>False</td>\n",
       "      <td>False</td>\n",
       "      <td>False</td>\n",
       "      <td>False</td>\n",
       "      <td>False</td>\n",
       "      <td>False</td>\n",
       "      <td>False</td>\n",
       "      <td>False</td>\n",
       "    </tr>\n",
       "    <tr>\n",
       "      <th>666</th>\n",
       "      <td>Zoom</td>\n",
       "      <td>False</td>\n",
       "      <td>False</td>\n",
       "      <td>False</td>\n",
       "      <td>False</td>\n",
       "      <td>False</td>\n",
       "      <td>False</td>\n",
       "      <td>False</td>\n",
       "      <td>False</td>\n",
       "      <td>False</td>\n",
       "      <td>...</td>\n",
       "      <td>False</td>\n",
       "      <td>False</td>\n",
       "      <td>False</td>\n",
       "      <td>False</td>\n",
       "      <td>False</td>\n",
       "      <td>False</td>\n",
       "      <td>False</td>\n",
       "      <td>False</td>\n",
       "      <td>False</td>\n",
       "      <td>False</td>\n",
       "    </tr>\n",
       "  </tbody>\n",
       "</table>\n",
       "<p>5 rows × 168 columns</p>\n",
       "</div>"
      ],
      "text/plain": [
       "          hero_names  Agility  Accelerated Healing  Lantern Power Ring  \\\n",
       "662  Yellowjacket II    False                False               False   \n",
       "663             Ymir    False                False               False   \n",
       "664             Yoda     True                False               False   \n",
       "665          Zatanna    False                False               False   \n",
       "666             Zoom    False                False               False   \n",
       "\n",
       "     Dimensional Awareness  Cold Resistance  Durability  Stealth  \\\n",
       "662                  False            False       False    False   \n",
       "663                  False             True        True    False   \n",
       "664                  False            False       False     True   \n",
       "665                  False            False       False    False   \n",
       "666                  False            False       False    False   \n",
       "\n",
       "     Energy Absorption  Flight  ...  Web Creation  Reality Warping  \\\n",
       "662              False    True  ...         False            False   \n",
       "663              False   False  ...         False            False   \n",
       "664              False   False  ...         False            False   \n",
       "665              False   False  ...         False            False   \n",
       "666              False   False  ...         False            False   \n",
       "\n",
       "     Odin Force  Symbiote Costume  Speed Force  Phoenix Force  \\\n",
       "662       False             False        False          False   \n",
       "663       False             False        False          False   \n",
       "664       False             False        False          False   \n",
       "665       False             False        False          False   \n",
       "666       False             False        False          False   \n",
       "\n",
       "     Molecular Dissipation  Vision - Cryo  Omnipresent  Omniscient  \n",
       "662                  False          False        False       False  \n",
       "663                  False          False        False       False  \n",
       "664                  False          False        False       False  \n",
       "665                  False          False        False       False  \n",
       "666                  False          False        False       False  \n",
       "\n",
       "[5 rows x 168 columns]"
      ]
     },
     "execution_count": 71,
     "metadata": {},
     "output_type": "execute_result"
    }
   ],
   "source": [
    "superpowers.tail()"
   ]
  },
  {
   "cell_type": "code",
   "execution_count": 72,
   "id": "4d9f35fa",
   "metadata": {},
   "outputs": [
    {
     "name": "stdout",
     "output_type": "stream",
     "text": [
      "<class 'pandas.core.frame.DataFrame'>\n",
      "RangeIndex: 667 entries, 0 to 666\n",
      "Columns: 168 entries, hero_names to Omniscient\n",
      "dtypes: bool(167), object(1)\n",
      "memory usage: 114.1+ KB\n"
     ]
    }
   ],
   "source": [
    "superpowers.info()"
   ]
  },
  {
   "cell_type": "code",
   "execution_count": 73,
   "id": "16a4ddaa",
   "metadata": {},
   "outputs": [
    {
     "data": {
      "text/html": [
       "<div>\n",
       "<style scoped>\n",
       "    .dataframe tbody tr th:only-of-type {\n",
       "        vertical-align: middle;\n",
       "    }\n",
       "\n",
       "    .dataframe tbody tr th {\n",
       "        vertical-align: top;\n",
       "    }\n",
       "\n",
       "    .dataframe thead th {\n",
       "        text-align: right;\n",
       "    }\n",
       "</style>\n",
       "<table border=\"1\" class=\"dataframe\">\n",
       "  <thead>\n",
       "    <tr style=\"text-align: right;\">\n",
       "      <th></th>\n",
       "      <th>hero_names</th>\n",
       "      <th>Agility</th>\n",
       "      <th>Accelerated Healing</th>\n",
       "      <th>Lantern Power Ring</th>\n",
       "      <th>Dimensional Awareness</th>\n",
       "      <th>Cold Resistance</th>\n",
       "      <th>Durability</th>\n",
       "      <th>Stealth</th>\n",
       "      <th>Energy Absorption</th>\n",
       "      <th>Flight</th>\n",
       "      <th>...</th>\n",
       "      <th>Web Creation</th>\n",
       "      <th>Reality Warping</th>\n",
       "      <th>Odin Force</th>\n",
       "      <th>Symbiote Costume</th>\n",
       "      <th>Speed Force</th>\n",
       "      <th>Phoenix Force</th>\n",
       "      <th>Molecular Dissipation</th>\n",
       "      <th>Vision - Cryo</th>\n",
       "      <th>Omnipresent</th>\n",
       "      <th>Omniscient</th>\n",
       "    </tr>\n",
       "  </thead>\n",
       "  <tbody>\n",
       "    <tr>\n",
       "      <th>count</th>\n",
       "      <td>667</td>\n",
       "      <td>667</td>\n",
       "      <td>667</td>\n",
       "      <td>667</td>\n",
       "      <td>667</td>\n",
       "      <td>667</td>\n",
       "      <td>667</td>\n",
       "      <td>667</td>\n",
       "      <td>667</td>\n",
       "      <td>667</td>\n",
       "      <td>...</td>\n",
       "      <td>667</td>\n",
       "      <td>667</td>\n",
       "      <td>667</td>\n",
       "      <td>667</td>\n",
       "      <td>667</td>\n",
       "      <td>667</td>\n",
       "      <td>667</td>\n",
       "      <td>667</td>\n",
       "      <td>667</td>\n",
       "      <td>667</td>\n",
       "    </tr>\n",
       "    <tr>\n",
       "      <th>unique</th>\n",
       "      <td>667</td>\n",
       "      <td>2</td>\n",
       "      <td>2</td>\n",
       "      <td>2</td>\n",
       "      <td>2</td>\n",
       "      <td>2</td>\n",
       "      <td>2</td>\n",
       "      <td>2</td>\n",
       "      <td>2</td>\n",
       "      <td>2</td>\n",
       "      <td>...</td>\n",
       "      <td>2</td>\n",
       "      <td>2</td>\n",
       "      <td>2</td>\n",
       "      <td>2</td>\n",
       "      <td>2</td>\n",
       "      <td>2</td>\n",
       "      <td>2</td>\n",
       "      <td>2</td>\n",
       "      <td>2</td>\n",
       "      <td>2</td>\n",
       "    </tr>\n",
       "    <tr>\n",
       "      <th>top</th>\n",
       "      <td>3-D Man</td>\n",
       "      <td>False</td>\n",
       "      <td>False</td>\n",
       "      <td>False</td>\n",
       "      <td>False</td>\n",
       "      <td>False</td>\n",
       "      <td>False</td>\n",
       "      <td>False</td>\n",
       "      <td>False</td>\n",
       "      <td>False</td>\n",
       "      <td>...</td>\n",
       "      <td>False</td>\n",
       "      <td>False</td>\n",
       "      <td>False</td>\n",
       "      <td>False</td>\n",
       "      <td>False</td>\n",
       "      <td>False</td>\n",
       "      <td>False</td>\n",
       "      <td>False</td>\n",
       "      <td>False</td>\n",
       "      <td>False</td>\n",
       "    </tr>\n",
       "    <tr>\n",
       "      <th>freq</th>\n",
       "      <td>1</td>\n",
       "      <td>425</td>\n",
       "      <td>489</td>\n",
       "      <td>656</td>\n",
       "      <td>642</td>\n",
       "      <td>620</td>\n",
       "      <td>410</td>\n",
       "      <td>541</td>\n",
       "      <td>590</td>\n",
       "      <td>455</td>\n",
       "      <td>...</td>\n",
       "      <td>653</td>\n",
       "      <td>651</td>\n",
       "      <td>665</td>\n",
       "      <td>658</td>\n",
       "      <td>666</td>\n",
       "      <td>666</td>\n",
       "      <td>666</td>\n",
       "      <td>665</td>\n",
       "      <td>665</td>\n",
       "      <td>665</td>\n",
       "    </tr>\n",
       "  </tbody>\n",
       "</table>\n",
       "<p>4 rows × 168 columns</p>\n",
       "</div>"
      ],
      "text/plain": [
       "       hero_names Agility Accelerated Healing Lantern Power Ring  \\\n",
       "count         667     667                 667                667   \n",
       "unique        667       2                   2                  2   \n",
       "top       3-D Man   False               False              False   \n",
       "freq            1     425                 489                656   \n",
       "\n",
       "       Dimensional Awareness Cold Resistance Durability Stealth  \\\n",
       "count                    667             667        667     667   \n",
       "unique                     2               2          2       2   \n",
       "top                    False           False      False   False   \n",
       "freq                     642             620        410     541   \n",
       "\n",
       "       Energy Absorption Flight  ... Web Creation Reality Warping Odin Force  \\\n",
       "count                667    667  ...          667             667        667   \n",
       "unique                 2      2  ...            2               2          2   \n",
       "top                False  False  ...        False           False      False   \n",
       "freq                 590    455  ...          653             651        665   \n",
       "\n",
       "       Symbiote Costume Speed Force Phoenix Force Molecular Dissipation  \\\n",
       "count               667         667           667                   667   \n",
       "unique                2           2             2                     2   \n",
       "top               False       False         False                 False   \n",
       "freq                658         666           666                   666   \n",
       "\n",
       "       Vision - Cryo Omnipresent Omniscient  \n",
       "count            667         667        667  \n",
       "unique             2           2          2  \n",
       "top            False       False      False  \n",
       "freq             665         665        665  \n",
       "\n",
       "[4 rows x 168 columns]"
      ]
     },
     "execution_count": 73,
     "metadata": {},
     "output_type": "execute_result"
    }
   ],
   "source": [
    "superpowers.describe()"
   ]
  },
  {
   "cell_type": "code",
   "execution_count": 74,
   "id": "a9b00253",
   "metadata": {},
   "outputs": [],
   "source": [
    "hero_dc = pd.read_excel('/Users/chlazaris/Desktop/Python-for-Data-Analysis-step-by-step-with-projects--main/superhero_info.xlsx', sheet_name='DC Comics')"
   ]
  },
  {
   "cell_type": "code",
   "execution_count": 75,
   "id": "69c87299",
   "metadata": {},
   "outputs": [
    {
     "data": {
      "text/html": [
       "<div>\n",
       "<style scoped>\n",
       "    .dataframe tbody tr th:only-of-type {\n",
       "        vertical-align: middle;\n",
       "    }\n",
       "\n",
       "    .dataframe tbody tr th {\n",
       "        vertical-align: top;\n",
       "    }\n",
       "\n",
       "    .dataframe thead th {\n",
       "        text-align: right;\n",
       "    }\n",
       "</style>\n",
       "<table border=\"1\" class=\"dataframe\">\n",
       "  <thead>\n",
       "    <tr style=\"text-align: right;\">\n",
       "      <th></th>\n",
       "      <th>name</th>\n",
       "      <th>Gender</th>\n",
       "      <th>Eye color</th>\n",
       "      <th>Race</th>\n",
       "      <th>Hair color</th>\n",
       "      <th>Height</th>\n",
       "      <th>Publisher</th>\n",
       "      <th>Alignment</th>\n",
       "      <th>Weight</th>\n",
       "    </tr>\n",
       "  </thead>\n",
       "  <tbody>\n",
       "    <tr>\n",
       "      <th>0</th>\n",
       "      <td>Abin Sur</td>\n",
       "      <td>Male</td>\n",
       "      <td>blue</td>\n",
       "      <td>Ungaran</td>\n",
       "      <td>No Hair</td>\n",
       "      <td>185</td>\n",
       "      <td>DC Comics</td>\n",
       "      <td>good</td>\n",
       "      <td>90.0</td>\n",
       "    </tr>\n",
       "    <tr>\n",
       "      <th>1</th>\n",
       "      <td>Adam Strange</td>\n",
       "      <td>Male</td>\n",
       "      <td>blue</td>\n",
       "      <td>Human</td>\n",
       "      <td>Blond</td>\n",
       "      <td>185</td>\n",
       "      <td>DC Comics</td>\n",
       "      <td>good</td>\n",
       "      <td>88.0</td>\n",
       "    </tr>\n",
       "    <tr>\n",
       "      <th>2</th>\n",
       "      <td>Alan Scott</td>\n",
       "      <td>Male</td>\n",
       "      <td>blue</td>\n",
       "      <td>-</td>\n",
       "      <td>Blond</td>\n",
       "      <td>180</td>\n",
       "      <td>DC Comics</td>\n",
       "      <td>good</td>\n",
       "      <td>90.0</td>\n",
       "    </tr>\n",
       "    <tr>\n",
       "      <th>3</th>\n",
       "      <td>Alfred Pennyworth</td>\n",
       "      <td>Male</td>\n",
       "      <td>blue</td>\n",
       "      <td>Human</td>\n",
       "      <td>Black</td>\n",
       "      <td>178</td>\n",
       "      <td>DC Comics</td>\n",
       "      <td>good</td>\n",
       "      <td>72.0</td>\n",
       "    </tr>\n",
       "    <tr>\n",
       "      <th>4</th>\n",
       "      <td>Amazo</td>\n",
       "      <td>Male</td>\n",
       "      <td>red</td>\n",
       "      <td>Android</td>\n",
       "      <td>-</td>\n",
       "      <td>257</td>\n",
       "      <td>DC Comics</td>\n",
       "      <td>bad</td>\n",
       "      <td>173.0</td>\n",
       "    </tr>\n",
       "  </tbody>\n",
       "</table>\n",
       "</div>"
      ],
      "text/plain": [
       "                name Gender Eye color     Race Hair color  Height  Publisher  \\\n",
       "0           Abin Sur   Male      blue  Ungaran    No Hair     185  DC Comics   \n",
       "1       Adam Strange   Male      blue    Human      Blond     185  DC Comics   \n",
       "2         Alan Scott   Male      blue        -      Blond     180  DC Comics   \n",
       "3  Alfred Pennyworth   Male      blue    Human      Black     178  DC Comics   \n",
       "4              Amazo   Male       red  Android          -     257  DC Comics   \n",
       "\n",
       "  Alignment  Weight  \n",
       "0      good    90.0  \n",
       "1      good    88.0  \n",
       "2      good    90.0  \n",
       "3      good    72.0  \n",
       "4       bad   173.0  "
      ]
     },
     "execution_count": 75,
     "metadata": {},
     "output_type": "execute_result"
    }
   ],
   "source": [
    "hero_dc.head()"
   ]
  },
  {
   "cell_type": "code",
   "execution_count": 76,
   "id": "8f749f97",
   "metadata": {},
   "outputs": [],
   "source": [
    "hero_marvel = pd.read_excel('/Users/chlazaris/Desktop/Python-for-Data-Analysis-step-by-step-with-projects--main/superhero_info.xlsx', sheet_name='Marvel Comics')"
   ]
  },
  {
   "cell_type": "code",
   "execution_count": 77,
   "id": "26163739",
   "metadata": {},
   "outputs": [
    {
     "data": {
      "text/html": [
       "<div>\n",
       "<style scoped>\n",
       "    .dataframe tbody tr th:only-of-type {\n",
       "        vertical-align: middle;\n",
       "    }\n",
       "\n",
       "    .dataframe tbody tr th {\n",
       "        vertical-align: top;\n",
       "    }\n",
       "\n",
       "    .dataframe thead th {\n",
       "        text-align: right;\n",
       "    }\n",
       "</style>\n",
       "<table border=\"1\" class=\"dataframe\">\n",
       "  <thead>\n",
       "    <tr style=\"text-align: right;\">\n",
       "      <th></th>\n",
       "      <th>name</th>\n",
       "      <th>Gender</th>\n",
       "      <th>Eye color</th>\n",
       "      <th>Race</th>\n",
       "      <th>Hair color</th>\n",
       "      <th>Height</th>\n",
       "      <th>Publisher</th>\n",
       "      <th>Alignment</th>\n",
       "      <th>Weight</th>\n",
       "    </tr>\n",
       "  </thead>\n",
       "  <tbody>\n",
       "    <tr>\n",
       "      <th>0</th>\n",
       "      <td>A-Bomb</td>\n",
       "      <td>Male</td>\n",
       "      <td>yellow</td>\n",
       "      <td>Human</td>\n",
       "      <td>No Hair</td>\n",
       "      <td>203</td>\n",
       "      <td>Marvel Comics</td>\n",
       "      <td>good</td>\n",
       "      <td>441</td>\n",
       "    </tr>\n",
       "    <tr>\n",
       "      <th>1</th>\n",
       "      <td>Abomination</td>\n",
       "      <td>Male</td>\n",
       "      <td>green</td>\n",
       "      <td>Human / Radiation</td>\n",
       "      <td>No Hair</td>\n",
       "      <td>203</td>\n",
       "      <td>Marvel Comics</td>\n",
       "      <td>bad</td>\n",
       "      <td>441</td>\n",
       "    </tr>\n",
       "    <tr>\n",
       "      <th>2</th>\n",
       "      <td>Abraxas</td>\n",
       "      <td>Male</td>\n",
       "      <td>blue</td>\n",
       "      <td>Cosmic Entity</td>\n",
       "      <td>Black</td>\n",
       "      <td>-99</td>\n",
       "      <td>Marvel Comics</td>\n",
       "      <td>bad</td>\n",
       "      <td>-99</td>\n",
       "    </tr>\n",
       "    <tr>\n",
       "      <th>3</th>\n",
       "      <td>Absorbing Man</td>\n",
       "      <td>Male</td>\n",
       "      <td>blue</td>\n",
       "      <td>Human</td>\n",
       "      <td>No Hair</td>\n",
       "      <td>193</td>\n",
       "      <td>Marvel Comics</td>\n",
       "      <td>bad</td>\n",
       "      <td>122</td>\n",
       "    </tr>\n",
       "    <tr>\n",
       "      <th>4</th>\n",
       "      <td>Agent 13</td>\n",
       "      <td>Female</td>\n",
       "      <td>blue</td>\n",
       "      <td>-</td>\n",
       "      <td>Blond</td>\n",
       "      <td>173</td>\n",
       "      <td>Marvel Comics</td>\n",
       "      <td>good</td>\n",
       "      <td>61</td>\n",
       "    </tr>\n",
       "  </tbody>\n",
       "</table>\n",
       "</div>"
      ],
      "text/plain": [
       "            name  Gender Eye color               Race Hair color  Height  \\\n",
       "0         A-Bomb    Male    yellow              Human    No Hair     203   \n",
       "1    Abomination    Male     green  Human / Radiation    No Hair     203   \n",
       "2        Abraxas    Male      blue      Cosmic Entity      Black     -99   \n",
       "3  Absorbing Man    Male      blue              Human    No Hair     193   \n",
       "4       Agent 13  Female      blue                  -      Blond     173   \n",
       "\n",
       "       Publisher Alignment  Weight  \n",
       "0  Marvel Comics      good     441  \n",
       "1  Marvel Comics       bad     441  \n",
       "2  Marvel Comics       bad     -99  \n",
       "3  Marvel Comics       bad     122  \n",
       "4  Marvel Comics      good      61  "
      ]
     },
     "execution_count": 77,
     "metadata": {},
     "output_type": "execute_result"
    }
   ],
   "source": [
    "hero_marvel.head()"
   ]
  },
  {
   "cell_type": "code",
   "execution_count": 78,
   "id": "b659a8d3",
   "metadata": {},
   "outputs": [
    {
     "data": {
      "text/html": [
       "<div>\n",
       "<style scoped>\n",
       "    .dataframe tbody tr th:only-of-type {\n",
       "        vertical-align: middle;\n",
       "    }\n",
       "\n",
       "    .dataframe tbody tr th {\n",
       "        vertical-align: top;\n",
       "    }\n",
       "\n",
       "    .dataframe thead th {\n",
       "        text-align: right;\n",
       "    }\n",
       "</style>\n",
       "<table border=\"1\" class=\"dataframe\">\n",
       "  <thead>\n",
       "    <tr style=\"text-align: right;\">\n",
       "      <th></th>\n",
       "      <th>name</th>\n",
       "      <th>Gender</th>\n",
       "      <th>Eye color</th>\n",
       "      <th>Race</th>\n",
       "      <th>Hair color</th>\n",
       "      <th>Height</th>\n",
       "      <th>Publisher</th>\n",
       "      <th>Alignment</th>\n",
       "      <th>Weight</th>\n",
       "    </tr>\n",
       "  </thead>\n",
       "  <tbody>\n",
       "    <tr>\n",
       "      <th>383</th>\n",
       "      <td>X-Man</td>\n",
       "      <td>Male</td>\n",
       "      <td>blue</td>\n",
       "      <td>-</td>\n",
       "      <td>Brown</td>\n",
       "      <td>175</td>\n",
       "      <td>Marvel Comics</td>\n",
       "      <td>good</td>\n",
       "      <td>61</td>\n",
       "    </tr>\n",
       "    <tr>\n",
       "      <th>384</th>\n",
       "      <td>Yellow Claw</td>\n",
       "      <td>Male</td>\n",
       "      <td>blue</td>\n",
       "      <td>-</td>\n",
       "      <td>No Hair</td>\n",
       "      <td>188</td>\n",
       "      <td>Marvel Comics</td>\n",
       "      <td>bad</td>\n",
       "      <td>95</td>\n",
       "    </tr>\n",
       "    <tr>\n",
       "      <th>385</th>\n",
       "      <td>Yellowjacket</td>\n",
       "      <td>Male</td>\n",
       "      <td>blue</td>\n",
       "      <td>Human</td>\n",
       "      <td>Blond</td>\n",
       "      <td>183</td>\n",
       "      <td>Marvel Comics</td>\n",
       "      <td>good</td>\n",
       "      <td>83</td>\n",
       "    </tr>\n",
       "    <tr>\n",
       "      <th>386</th>\n",
       "      <td>Yellowjacket II</td>\n",
       "      <td>Female</td>\n",
       "      <td>blue</td>\n",
       "      <td>Human</td>\n",
       "      <td>Strawberry Blond</td>\n",
       "      <td>165</td>\n",
       "      <td>Marvel Comics</td>\n",
       "      <td>good</td>\n",
       "      <td>52</td>\n",
       "    </tr>\n",
       "    <tr>\n",
       "      <th>387</th>\n",
       "      <td>Ymir</td>\n",
       "      <td>Male</td>\n",
       "      <td>white</td>\n",
       "      <td>Frost Giant</td>\n",
       "      <td>No Hair</td>\n",
       "      <td>305</td>\n",
       "      <td>Marvel Comics</td>\n",
       "      <td>good</td>\n",
       "      <td>-99</td>\n",
       "    </tr>\n",
       "  </tbody>\n",
       "</table>\n",
       "</div>"
      ],
      "text/plain": [
       "                name  Gender Eye color         Race        Hair color  Height  \\\n",
       "383            X-Man    Male      blue            -             Brown     175   \n",
       "384      Yellow Claw    Male      blue            -           No Hair     188   \n",
       "385     Yellowjacket    Male      blue        Human             Blond     183   \n",
       "386  Yellowjacket II  Female      blue        Human  Strawberry Blond     165   \n",
       "387             Ymir    Male     white  Frost Giant           No Hair     305   \n",
       "\n",
       "         Publisher Alignment  Weight  \n",
       "383  Marvel Comics      good      61  \n",
       "384  Marvel Comics       bad      95  \n",
       "385  Marvel Comics      good      83  \n",
       "386  Marvel Comics      good      52  \n",
       "387  Marvel Comics      good     -99  "
      ]
     },
     "execution_count": 78,
     "metadata": {},
     "output_type": "execute_result"
    }
   ],
   "source": [
    "hero_marvel.tail()"
   ]
  },
  {
   "cell_type": "code",
   "execution_count": 79,
   "id": "cf6c4ac0",
   "metadata": {},
   "outputs": [
    {
     "name": "stdout",
     "output_type": "stream",
     "text": [
      "<class 'pandas.core.frame.DataFrame'>\n",
      "RangeIndex: 388 entries, 0 to 387\n",
      "Data columns (total 9 columns):\n",
      " #   Column      Non-Null Count  Dtype \n",
      "---  ------      --------------  ----- \n",
      " 0   name        388 non-null    object\n",
      " 1   Gender      388 non-null    object\n",
      " 2   Eye color   388 non-null    object\n",
      " 3   Race        388 non-null    object\n",
      " 4   Hair color  388 non-null    object\n",
      " 5   Height      388 non-null    int64 \n",
      " 6   Publisher   388 non-null    object\n",
      " 7   Alignment   388 non-null    object\n",
      " 8   Weight      388 non-null    int64 \n",
      "dtypes: int64(2), object(7)\n",
      "memory usage: 27.4+ KB\n"
     ]
    }
   ],
   "source": [
    "hero_marvel.info()"
   ]
  },
  {
   "cell_type": "code",
   "execution_count": 80,
   "id": "876e0858",
   "metadata": {},
   "outputs": [
    {
     "data": {
      "text/plain": [
       "Index(['name', 'Gender', 'Eye color', 'Race', 'Hair color', 'Height',\n",
       "       'Publisher', 'Alignment', 'Weight'],\n",
       "      dtype='object')"
      ]
     },
     "execution_count": 80,
     "metadata": {},
     "output_type": "execute_result"
    }
   ],
   "source": [
    "# Return the column names\n",
    "hero_marvel.columns"
   ]
  },
  {
   "cell_type": "code",
   "execution_count": 81,
   "id": "9b8003f2",
   "metadata": {},
   "outputs": [
    {
     "data": {
      "text/plain": [
       "RangeIndex(start=0, stop=388, step=1)"
      ]
     },
     "execution_count": 81,
     "metadata": {},
     "output_type": "execute_result"
    }
   ],
   "source": [
    "# Return the rows\n",
    "hero_marvel.index"
   ]
  },
  {
   "cell_type": "code",
   "execution_count": 82,
   "id": "a2a812bf",
   "metadata": {},
   "outputs": [
    {
     "data": {
      "text/plain": [
       "3492"
      ]
     },
     "execution_count": 82,
     "metadata": {},
     "output_type": "execute_result"
    }
   ],
   "source": [
    "hero_marvel.size"
   ]
  },
  {
   "cell_type": "code",
   "execution_count": 83,
   "id": "6015aa4e",
   "metadata": {},
   "outputs": [
    {
     "data": {
      "text/plain": [
       "(388, 9)"
      ]
     },
     "execution_count": 83,
     "metadata": {},
     "output_type": "execute_result"
    }
   ],
   "source": [
    "hero_marvel.shape"
   ]
  },
  {
   "cell_type": "code",
   "execution_count": 84,
   "id": "fa170e2b",
   "metadata": {},
   "outputs": [
    {
     "data": {
      "text/plain": [
       "name          object\n",
       "Gender        object\n",
       "Eye color     object\n",
       "Race          object\n",
       "Hair color    object\n",
       "Height         int64\n",
       "Publisher     object\n",
       "Alignment     object\n",
       "Weight         int64\n",
       "dtype: object"
      ]
     },
     "execution_count": 84,
     "metadata": {},
     "output_type": "execute_result"
    }
   ],
   "source": [
    "# Get the types of the columns for hero_marvel\n",
    "hero_marvel.dtypes"
   ]
  },
  {
   "cell_type": "code",
   "execution_count": 85,
   "id": "7b6c7a92",
   "metadata": {},
   "outputs": [],
   "source": [
    "# Export the data\n",
    "hero_dc.to_csv('hero_dc_csv.csv')\n",
    "hero_marvel.to_csv('hero_marvel_csv.csv')\n",
    "hero_dc.to_pickle('hero_dc_pickle.pkl')\n",
    "hero_marvel.to_pickle('hero_dc_marvel.pkl')"
   ]
  },
  {
   "cell_type": "markdown",
   "id": "df46a46c",
   "metadata": {},
   "source": [
    "## Exploring Data"
   ]
  },
  {
   "cell_type": "code",
   "execution_count": 86,
   "id": "c42ba0e3",
   "metadata": {},
   "outputs": [],
   "source": [
    "import pandas as pd"
   ]
  },
  {
   "cell_type": "markdown",
   "id": "aeee4632",
   "metadata": {},
   "source": [
    "### Merging dataframes"
   ]
  },
  {
   "cell_type": "code",
   "execution_count": 87,
   "id": "1d036395",
   "metadata": {},
   "outputs": [],
   "source": [
    "left = pd.DataFrame({'col1':[1,2,3,4,5], 'col2':['a','b','c','d','e']})"
   ]
  },
  {
   "cell_type": "code",
   "execution_count": 88,
   "id": "08d311bf",
   "metadata": {},
   "outputs": [
    {
     "data": {
      "text/html": [
       "<div>\n",
       "<style scoped>\n",
       "    .dataframe tbody tr th:only-of-type {\n",
       "        vertical-align: middle;\n",
       "    }\n",
       "\n",
       "    .dataframe tbody tr th {\n",
       "        vertical-align: top;\n",
       "    }\n",
       "\n",
       "    .dataframe thead th {\n",
       "        text-align: right;\n",
       "    }\n",
       "</style>\n",
       "<table border=\"1\" class=\"dataframe\">\n",
       "  <thead>\n",
       "    <tr style=\"text-align: right;\">\n",
       "      <th></th>\n",
       "      <th>col1</th>\n",
       "      <th>col2</th>\n",
       "    </tr>\n",
       "  </thead>\n",
       "  <tbody>\n",
       "    <tr>\n",
       "      <th>0</th>\n",
       "      <td>1</td>\n",
       "      <td>a</td>\n",
       "    </tr>\n",
       "    <tr>\n",
       "      <th>1</th>\n",
       "      <td>2</td>\n",
       "      <td>b</td>\n",
       "    </tr>\n",
       "    <tr>\n",
       "      <th>2</th>\n",
       "      <td>3</td>\n",
       "      <td>c</td>\n",
       "    </tr>\n",
       "    <tr>\n",
       "      <th>3</th>\n",
       "      <td>4</td>\n",
       "      <td>d</td>\n",
       "    </tr>\n",
       "    <tr>\n",
       "      <th>4</th>\n",
       "      <td>5</td>\n",
       "      <td>e</td>\n",
       "    </tr>\n",
       "  </tbody>\n",
       "</table>\n",
       "</div>"
      ],
      "text/plain": [
       "   col1 col2\n",
       "0     1    a\n",
       "1     2    b\n",
       "2     3    c\n",
       "3     4    d\n",
       "4     5    e"
      ]
     },
     "execution_count": 88,
     "metadata": {},
     "output_type": "execute_result"
    }
   ],
   "source": [
    "left"
   ]
  },
  {
   "cell_type": "code",
   "execution_count": 89,
   "id": "9920cc72",
   "metadata": {},
   "outputs": [],
   "source": [
    "right = pd.DataFrame({'col1':[3,4,5,6,7], 'col3':['f','g','h','i','j']})"
   ]
  },
  {
   "cell_type": "code",
   "execution_count": 90,
   "id": "88fedee8",
   "metadata": {},
   "outputs": [
    {
     "data": {
      "text/html": [
       "<div>\n",
       "<style scoped>\n",
       "    .dataframe tbody tr th:only-of-type {\n",
       "        vertical-align: middle;\n",
       "    }\n",
       "\n",
       "    .dataframe tbody tr th {\n",
       "        vertical-align: top;\n",
       "    }\n",
       "\n",
       "    .dataframe thead th {\n",
       "        text-align: right;\n",
       "    }\n",
       "</style>\n",
       "<table border=\"1\" class=\"dataframe\">\n",
       "  <thead>\n",
       "    <tr style=\"text-align: right;\">\n",
       "      <th></th>\n",
       "      <th>col1</th>\n",
       "      <th>col3</th>\n",
       "    </tr>\n",
       "  </thead>\n",
       "  <tbody>\n",
       "    <tr>\n",
       "      <th>0</th>\n",
       "      <td>3</td>\n",
       "      <td>f</td>\n",
       "    </tr>\n",
       "    <tr>\n",
       "      <th>1</th>\n",
       "      <td>4</td>\n",
       "      <td>g</td>\n",
       "    </tr>\n",
       "    <tr>\n",
       "      <th>2</th>\n",
       "      <td>5</td>\n",
       "      <td>h</td>\n",
       "    </tr>\n",
       "    <tr>\n",
       "      <th>3</th>\n",
       "      <td>6</td>\n",
       "      <td>i</td>\n",
       "    </tr>\n",
       "    <tr>\n",
       "      <th>4</th>\n",
       "      <td>7</td>\n",
       "      <td>j</td>\n",
       "    </tr>\n",
       "  </tbody>\n",
       "</table>\n",
       "</div>"
      ],
      "text/plain": [
       "   col1 col3\n",
       "0     3    f\n",
       "1     4    g\n",
       "2     5    h\n",
       "3     6    i\n",
       "4     7    j"
      ]
     },
     "execution_count": 90,
     "metadata": {},
     "output_type": "execute_result"
    }
   ],
   "source": [
    "right"
   ]
  },
  {
   "cell_type": "code",
   "execution_count": 91,
   "id": "4f4007ee",
   "metadata": {},
   "outputs": [],
   "source": [
    "# Inner join\n",
    "inner_join = pd.merge(left, right, on='col1', how='inner')"
   ]
  },
  {
   "cell_type": "code",
   "execution_count": 92,
   "id": "b21fd397",
   "metadata": {},
   "outputs": [
    {
     "data": {
      "text/html": [
       "<div>\n",
       "<style scoped>\n",
       "    .dataframe tbody tr th:only-of-type {\n",
       "        vertical-align: middle;\n",
       "    }\n",
       "\n",
       "    .dataframe tbody tr th {\n",
       "        vertical-align: top;\n",
       "    }\n",
       "\n",
       "    .dataframe thead th {\n",
       "        text-align: right;\n",
       "    }\n",
       "</style>\n",
       "<table border=\"1\" class=\"dataframe\">\n",
       "  <thead>\n",
       "    <tr style=\"text-align: right;\">\n",
       "      <th></th>\n",
       "      <th>col1</th>\n",
       "      <th>col2</th>\n",
       "      <th>col3</th>\n",
       "    </tr>\n",
       "  </thead>\n",
       "  <tbody>\n",
       "    <tr>\n",
       "      <th>0</th>\n",
       "      <td>3</td>\n",
       "      <td>c</td>\n",
       "      <td>f</td>\n",
       "    </tr>\n",
       "    <tr>\n",
       "      <th>1</th>\n",
       "      <td>4</td>\n",
       "      <td>d</td>\n",
       "      <td>g</td>\n",
       "    </tr>\n",
       "    <tr>\n",
       "      <th>2</th>\n",
       "      <td>5</td>\n",
       "      <td>e</td>\n",
       "      <td>h</td>\n",
       "    </tr>\n",
       "  </tbody>\n",
       "</table>\n",
       "</div>"
      ],
      "text/plain": [
       "   col1 col2 col3\n",
       "0     3    c    f\n",
       "1     4    d    g\n",
       "2     5    e    h"
      ]
     },
     "execution_count": 92,
     "metadata": {},
     "output_type": "execute_result"
    }
   ],
   "source": [
    "inner_join"
   ]
  },
  {
   "cell_type": "code",
   "execution_count": 93,
   "id": "5dc1f6ba",
   "metadata": {},
   "outputs": [],
   "source": [
    "# Outer join\n",
    "outer_join = pd.merge(left, right, on='col1', how='outer')"
   ]
  },
  {
   "cell_type": "code",
   "execution_count": 94,
   "id": "3c9c7536",
   "metadata": {},
   "outputs": [
    {
     "data": {
      "text/html": [
       "<div>\n",
       "<style scoped>\n",
       "    .dataframe tbody tr th:only-of-type {\n",
       "        vertical-align: middle;\n",
       "    }\n",
       "\n",
       "    .dataframe tbody tr th {\n",
       "        vertical-align: top;\n",
       "    }\n",
       "\n",
       "    .dataframe thead th {\n",
       "        text-align: right;\n",
       "    }\n",
       "</style>\n",
       "<table border=\"1\" class=\"dataframe\">\n",
       "  <thead>\n",
       "    <tr style=\"text-align: right;\">\n",
       "      <th></th>\n",
       "      <th>col1</th>\n",
       "      <th>col2</th>\n",
       "      <th>col3</th>\n",
       "    </tr>\n",
       "  </thead>\n",
       "  <tbody>\n",
       "    <tr>\n",
       "      <th>0</th>\n",
       "      <td>1</td>\n",
       "      <td>a</td>\n",
       "      <td>NaN</td>\n",
       "    </tr>\n",
       "    <tr>\n",
       "      <th>1</th>\n",
       "      <td>2</td>\n",
       "      <td>b</td>\n",
       "      <td>NaN</td>\n",
       "    </tr>\n",
       "    <tr>\n",
       "      <th>2</th>\n",
       "      <td>3</td>\n",
       "      <td>c</td>\n",
       "      <td>f</td>\n",
       "    </tr>\n",
       "    <tr>\n",
       "      <th>3</th>\n",
       "      <td>4</td>\n",
       "      <td>d</td>\n",
       "      <td>g</td>\n",
       "    </tr>\n",
       "    <tr>\n",
       "      <th>4</th>\n",
       "      <td>5</td>\n",
       "      <td>e</td>\n",
       "      <td>h</td>\n",
       "    </tr>\n",
       "    <tr>\n",
       "      <th>5</th>\n",
       "      <td>6</td>\n",
       "      <td>NaN</td>\n",
       "      <td>i</td>\n",
       "    </tr>\n",
       "    <tr>\n",
       "      <th>6</th>\n",
       "      <td>7</td>\n",
       "      <td>NaN</td>\n",
       "      <td>j</td>\n",
       "    </tr>\n",
       "  </tbody>\n",
       "</table>\n",
       "</div>"
      ],
      "text/plain": [
       "   col1 col2 col3\n",
       "0     1    a  NaN\n",
       "1     2    b  NaN\n",
       "2     3    c    f\n",
       "3     4    d    g\n",
       "4     5    e    h\n",
       "5     6  NaN    i\n",
       "6     7  NaN    j"
      ]
     },
     "execution_count": 94,
     "metadata": {},
     "output_type": "execute_result"
    }
   ],
   "source": [
    "outer_join"
   ]
  },
  {
   "cell_type": "code",
   "execution_count": 95,
   "id": "95c97607",
   "metadata": {},
   "outputs": [],
   "source": [
    "# Left join\n",
    "left_join = pd.merge(left, right, on='col1', how='left')"
   ]
  },
  {
   "cell_type": "code",
   "execution_count": 96,
   "id": "f5eee407",
   "metadata": {},
   "outputs": [
    {
     "data": {
      "text/html": [
       "<div>\n",
       "<style scoped>\n",
       "    .dataframe tbody tr th:only-of-type {\n",
       "        vertical-align: middle;\n",
       "    }\n",
       "\n",
       "    .dataframe tbody tr th {\n",
       "        vertical-align: top;\n",
       "    }\n",
       "\n",
       "    .dataframe thead th {\n",
       "        text-align: right;\n",
       "    }\n",
       "</style>\n",
       "<table border=\"1\" class=\"dataframe\">\n",
       "  <thead>\n",
       "    <tr style=\"text-align: right;\">\n",
       "      <th></th>\n",
       "      <th>col1</th>\n",
       "      <th>col2</th>\n",
       "      <th>col3</th>\n",
       "    </tr>\n",
       "  </thead>\n",
       "  <tbody>\n",
       "    <tr>\n",
       "      <th>0</th>\n",
       "      <td>1</td>\n",
       "      <td>a</td>\n",
       "      <td>NaN</td>\n",
       "    </tr>\n",
       "    <tr>\n",
       "      <th>1</th>\n",
       "      <td>2</td>\n",
       "      <td>b</td>\n",
       "      <td>NaN</td>\n",
       "    </tr>\n",
       "    <tr>\n",
       "      <th>2</th>\n",
       "      <td>3</td>\n",
       "      <td>c</td>\n",
       "      <td>f</td>\n",
       "    </tr>\n",
       "    <tr>\n",
       "      <th>3</th>\n",
       "      <td>4</td>\n",
       "      <td>d</td>\n",
       "      <td>g</td>\n",
       "    </tr>\n",
       "    <tr>\n",
       "      <th>4</th>\n",
       "      <td>5</td>\n",
       "      <td>e</td>\n",
       "      <td>h</td>\n",
       "    </tr>\n",
       "  </tbody>\n",
       "</table>\n",
       "</div>"
      ],
      "text/plain": [
       "   col1 col2 col3\n",
       "0     1    a  NaN\n",
       "1     2    b  NaN\n",
       "2     3    c    f\n",
       "3     4    d    g\n",
       "4     5    e    h"
      ]
     },
     "execution_count": 96,
     "metadata": {},
     "output_type": "execute_result"
    }
   ],
   "source": [
    "left_join"
   ]
  },
  {
   "cell_type": "code",
   "execution_count": 97,
   "id": "9ad5ddd7",
   "metadata": {},
   "outputs": [],
   "source": [
    "# Right join\n",
    "right_join = pd.merge(left, right, on='col1', how='right')"
   ]
  },
  {
   "cell_type": "code",
   "execution_count": 98,
   "id": "5462674c",
   "metadata": {},
   "outputs": [
    {
     "data": {
      "text/html": [
       "<div>\n",
       "<style scoped>\n",
       "    .dataframe tbody tr th:only-of-type {\n",
       "        vertical-align: middle;\n",
       "    }\n",
       "\n",
       "    .dataframe tbody tr th {\n",
       "        vertical-align: top;\n",
       "    }\n",
       "\n",
       "    .dataframe thead th {\n",
       "        text-align: right;\n",
       "    }\n",
       "</style>\n",
       "<table border=\"1\" class=\"dataframe\">\n",
       "  <thead>\n",
       "    <tr style=\"text-align: right;\">\n",
       "      <th></th>\n",
       "      <th>col1</th>\n",
       "      <th>col2</th>\n",
       "      <th>col3</th>\n",
       "    </tr>\n",
       "  </thead>\n",
       "  <tbody>\n",
       "    <tr>\n",
       "      <th>0</th>\n",
       "      <td>3</td>\n",
       "      <td>c</td>\n",
       "      <td>f</td>\n",
       "    </tr>\n",
       "    <tr>\n",
       "      <th>1</th>\n",
       "      <td>4</td>\n",
       "      <td>d</td>\n",
       "      <td>g</td>\n",
       "    </tr>\n",
       "    <tr>\n",
       "      <th>2</th>\n",
       "      <td>5</td>\n",
       "      <td>e</td>\n",
       "      <td>h</td>\n",
       "    </tr>\n",
       "    <tr>\n",
       "      <th>3</th>\n",
       "      <td>6</td>\n",
       "      <td>NaN</td>\n",
       "      <td>i</td>\n",
       "    </tr>\n",
       "    <tr>\n",
       "      <th>4</th>\n",
       "      <td>7</td>\n",
       "      <td>NaN</td>\n",
       "      <td>j</td>\n",
       "    </tr>\n",
       "  </tbody>\n",
       "</table>\n",
       "</div>"
      ],
      "text/plain": [
       "   col1 col2 col3\n",
       "0     3    c    f\n",
       "1     4    d    g\n",
       "2     5    e    h\n",
       "3     6  NaN    i\n",
       "4     7  NaN    j"
      ]
     },
     "execution_count": 98,
     "metadata": {},
     "output_type": "execute_result"
    }
   ],
   "source": [
    "right_join"
   ]
  },
  {
   "cell_type": "markdown",
   "id": "6cc44f81",
   "metadata": {},
   "source": [
    "### Getting columns and changing their names"
   ]
  },
  {
   "cell_type": "code",
   "execution_count": 99,
   "id": "93c6ad7b",
   "metadata": {},
   "outputs": [],
   "source": [
    "hero_dc = pd.read_pickle('/Users/chlazaris/Documents/Scripts/pandas/hero_dc_pickle.pkl')"
   ]
  },
  {
   "cell_type": "code",
   "execution_count": 100,
   "id": "b22858d7",
   "metadata": {},
   "outputs": [
    {
     "data": {
      "text/html": [
       "<div>\n",
       "<style scoped>\n",
       "    .dataframe tbody tr th:only-of-type {\n",
       "        vertical-align: middle;\n",
       "    }\n",
       "\n",
       "    .dataframe tbody tr th {\n",
       "        vertical-align: top;\n",
       "    }\n",
       "\n",
       "    .dataframe thead th {\n",
       "        text-align: right;\n",
       "    }\n",
       "</style>\n",
       "<table border=\"1\" class=\"dataframe\">\n",
       "  <thead>\n",
       "    <tr style=\"text-align: right;\">\n",
       "      <th></th>\n",
       "      <th>name</th>\n",
       "      <th>Gender</th>\n",
       "      <th>Eye color</th>\n",
       "      <th>Race</th>\n",
       "      <th>Hair color</th>\n",
       "      <th>Height</th>\n",
       "      <th>Publisher</th>\n",
       "      <th>Alignment</th>\n",
       "      <th>Weight</th>\n",
       "    </tr>\n",
       "  </thead>\n",
       "  <tbody>\n",
       "    <tr>\n",
       "      <th>0</th>\n",
       "      <td>Abin Sur</td>\n",
       "      <td>Male</td>\n",
       "      <td>blue</td>\n",
       "      <td>Ungaran</td>\n",
       "      <td>No Hair</td>\n",
       "      <td>185</td>\n",
       "      <td>DC Comics</td>\n",
       "      <td>good</td>\n",
       "      <td>90.0</td>\n",
       "    </tr>\n",
       "    <tr>\n",
       "      <th>1</th>\n",
       "      <td>Adam Strange</td>\n",
       "      <td>Male</td>\n",
       "      <td>blue</td>\n",
       "      <td>Human</td>\n",
       "      <td>Blond</td>\n",
       "      <td>185</td>\n",
       "      <td>DC Comics</td>\n",
       "      <td>good</td>\n",
       "      <td>88.0</td>\n",
       "    </tr>\n",
       "    <tr>\n",
       "      <th>2</th>\n",
       "      <td>Alan Scott</td>\n",
       "      <td>Male</td>\n",
       "      <td>blue</td>\n",
       "      <td>-</td>\n",
       "      <td>Blond</td>\n",
       "      <td>180</td>\n",
       "      <td>DC Comics</td>\n",
       "      <td>good</td>\n",
       "      <td>90.0</td>\n",
       "    </tr>\n",
       "    <tr>\n",
       "      <th>3</th>\n",
       "      <td>Alfred Pennyworth</td>\n",
       "      <td>Male</td>\n",
       "      <td>blue</td>\n",
       "      <td>Human</td>\n",
       "      <td>Black</td>\n",
       "      <td>178</td>\n",
       "      <td>DC Comics</td>\n",
       "      <td>good</td>\n",
       "      <td>72.0</td>\n",
       "    </tr>\n",
       "    <tr>\n",
       "      <th>4</th>\n",
       "      <td>Amazo</td>\n",
       "      <td>Male</td>\n",
       "      <td>red</td>\n",
       "      <td>Android</td>\n",
       "      <td>-</td>\n",
       "      <td>257</td>\n",
       "      <td>DC Comics</td>\n",
       "      <td>bad</td>\n",
       "      <td>173.0</td>\n",
       "    </tr>\n",
       "  </tbody>\n",
       "</table>\n",
       "</div>"
      ],
      "text/plain": [
       "                name Gender Eye color     Race Hair color  Height  Publisher  \\\n",
       "0           Abin Sur   Male      blue  Ungaran    No Hair     185  DC Comics   \n",
       "1       Adam Strange   Male      blue    Human      Blond     185  DC Comics   \n",
       "2         Alan Scott   Male      blue        -      Blond     180  DC Comics   \n",
       "3  Alfred Pennyworth   Male      blue    Human      Black     178  DC Comics   \n",
       "4              Amazo   Male       red  Android          -     257  DC Comics   \n",
       "\n",
       "  Alignment  Weight  \n",
       "0      good    90.0  \n",
       "1      good    88.0  \n",
       "2      good    90.0  \n",
       "3      good    72.0  \n",
       "4       bad   173.0  "
      ]
     },
     "execution_count": 100,
     "metadata": {},
     "output_type": "execute_result"
    }
   ],
   "source": [
    "hero_dc.head()"
   ]
  },
  {
   "cell_type": "code",
   "execution_count": 101,
   "id": "779d9121",
   "metadata": {},
   "outputs": [
    {
     "data": {
      "text/plain": [
       "Index(['name', 'Gender', 'Eye color', 'Race', 'Hair color', 'Height',\n",
       "       'Publisher', 'Alignment', 'Weight'],\n",
       "      dtype='object')"
      ]
     },
     "execution_count": 101,
     "metadata": {},
     "output_type": "execute_result"
    }
   ],
   "source": [
    "hero_dc.columns"
   ]
  },
  {
   "cell_type": "code",
   "execution_count": 102,
   "id": "45965734",
   "metadata": {},
   "outputs": [],
   "source": [
    "hero_dc.columns = hero_dc.columns.str.title()"
   ]
  },
  {
   "cell_type": "code",
   "execution_count": 103,
   "id": "82aabf09",
   "metadata": {},
   "outputs": [
    {
     "data": {
      "text/plain": [
       "Index(['Name', 'Gender', 'Eye Color', 'Race', 'Hair Color', 'Height',\n",
       "       'Publisher', 'Alignment', 'Weight'],\n",
       "      dtype='object')"
      ]
     },
     "execution_count": 103,
     "metadata": {},
     "output_type": "execute_result"
    }
   ],
   "source": [
    "hero_dc.columns"
   ]
  },
  {
   "cell_type": "code",
   "execution_count": 104,
   "id": "50879ff4",
   "metadata": {},
   "outputs": [
    {
     "data": {
      "text/plain": [
       "0               Abin Sur\n",
       "1           Adam Strange\n",
       "2             Alan Scott\n",
       "3      Alfred Pennyworth\n",
       "4                  Amazo\n",
       "             ...        \n",
       "210             Wildfire\n",
       "211          Wonder Girl\n",
       "212         Wonder Woman\n",
       "213              Zatanna\n",
       "214                 Zoom\n",
       "Name: Name, Length: 215, dtype: object"
      ]
     },
     "execution_count": 104,
     "metadata": {},
     "output_type": "execute_result"
    }
   ],
   "source": [
    "# This is how we select a certain column (e.g. the 'Name' column)\n",
    "hero_dc['Name']"
   ]
  },
  {
   "cell_type": "code",
   "execution_count": 105,
   "id": "36ce694f",
   "metadata": {},
   "outputs": [
    {
     "data": {
      "text/html": [
       "<div>\n",
       "<style scoped>\n",
       "    .dataframe tbody tr th:only-of-type {\n",
       "        vertical-align: middle;\n",
       "    }\n",
       "\n",
       "    .dataframe tbody tr th {\n",
       "        vertical-align: top;\n",
       "    }\n",
       "\n",
       "    .dataframe thead th {\n",
       "        text-align: right;\n",
       "    }\n",
       "</style>\n",
       "<table border=\"1\" class=\"dataframe\">\n",
       "  <thead>\n",
       "    <tr style=\"text-align: right;\">\n",
       "      <th></th>\n",
       "      <th>Name</th>\n",
       "      <th>Race</th>\n",
       "    </tr>\n",
       "  </thead>\n",
       "  <tbody>\n",
       "    <tr>\n",
       "      <th>0</th>\n",
       "      <td>Abin Sur</td>\n",
       "      <td>Ungaran</td>\n",
       "    </tr>\n",
       "    <tr>\n",
       "      <th>1</th>\n",
       "      <td>Adam Strange</td>\n",
       "      <td>Human</td>\n",
       "    </tr>\n",
       "    <tr>\n",
       "      <th>2</th>\n",
       "      <td>Alan Scott</td>\n",
       "      <td>-</td>\n",
       "    </tr>\n",
       "    <tr>\n",
       "      <th>3</th>\n",
       "      <td>Alfred Pennyworth</td>\n",
       "      <td>Human</td>\n",
       "    </tr>\n",
       "    <tr>\n",
       "      <th>4</th>\n",
       "      <td>Amazo</td>\n",
       "      <td>Android</td>\n",
       "    </tr>\n",
       "    <tr>\n",
       "      <th>...</th>\n",
       "      <td>...</td>\n",
       "      <td>...</td>\n",
       "    </tr>\n",
       "    <tr>\n",
       "      <th>210</th>\n",
       "      <td>Wildfire</td>\n",
       "      <td>-</td>\n",
       "    </tr>\n",
       "    <tr>\n",
       "      <th>211</th>\n",
       "      <td>Wonder Girl</td>\n",
       "      <td>Demi-God</td>\n",
       "    </tr>\n",
       "    <tr>\n",
       "      <th>212</th>\n",
       "      <td>Wonder Woman</td>\n",
       "      <td>Amazon</td>\n",
       "    </tr>\n",
       "    <tr>\n",
       "      <th>213</th>\n",
       "      <td>Zatanna</td>\n",
       "      <td>Human</td>\n",
       "    </tr>\n",
       "    <tr>\n",
       "      <th>214</th>\n",
       "      <td>Zoom</td>\n",
       "      <td>-</td>\n",
       "    </tr>\n",
       "  </tbody>\n",
       "</table>\n",
       "<p>215 rows × 2 columns</p>\n",
       "</div>"
      ],
      "text/plain": [
       "                  Name      Race\n",
       "0             Abin Sur   Ungaran\n",
       "1         Adam Strange     Human\n",
       "2           Alan Scott         -\n",
       "3    Alfred Pennyworth     Human\n",
       "4                Amazo   Android\n",
       "..                 ...       ...\n",
       "210           Wildfire         -\n",
       "211        Wonder Girl  Demi-God\n",
       "212       Wonder Woman    Amazon\n",
       "213            Zatanna     Human\n",
       "214               Zoom         -\n",
       "\n",
       "[215 rows x 2 columns]"
      ]
     },
     "execution_count": 105,
     "metadata": {},
     "output_type": "execute_result"
    }
   ],
   "source": [
    "# This is how we select multiple columns\n",
    "hero_dc[['Name','Race']]"
   ]
  },
  {
   "cell_type": "code",
   "execution_count": 106,
   "id": "e634c924",
   "metadata": {},
   "outputs": [
    {
     "data": {
      "text/html": [
       "<div>\n",
       "<style scoped>\n",
       "    .dataframe tbody tr th:only-of-type {\n",
       "        vertical-align: middle;\n",
       "    }\n",
       "\n",
       "    .dataframe tbody tr th {\n",
       "        vertical-align: top;\n",
       "    }\n",
       "\n",
       "    .dataframe thead th {\n",
       "        text-align: right;\n",
       "    }\n",
       "</style>\n",
       "<table border=\"1\" class=\"dataframe\">\n",
       "  <thead>\n",
       "    <tr style=\"text-align: right;\">\n",
       "      <th></th>\n",
       "      <th>Height</th>\n",
       "      <th>Weight</th>\n",
       "    </tr>\n",
       "  </thead>\n",
       "  <tbody>\n",
       "    <tr>\n",
       "      <th>0</th>\n",
       "      <td>185</td>\n",
       "      <td>90.0</td>\n",
       "    </tr>\n",
       "    <tr>\n",
       "      <th>1</th>\n",
       "      <td>185</td>\n",
       "      <td>88.0</td>\n",
       "    </tr>\n",
       "    <tr>\n",
       "      <th>2</th>\n",
       "      <td>180</td>\n",
       "      <td>90.0</td>\n",
       "    </tr>\n",
       "    <tr>\n",
       "      <th>3</th>\n",
       "      <td>178</td>\n",
       "      <td>72.0</td>\n",
       "    </tr>\n",
       "    <tr>\n",
       "      <th>4</th>\n",
       "      <td>257</td>\n",
       "      <td>173.0</td>\n",
       "    </tr>\n",
       "    <tr>\n",
       "      <th>...</th>\n",
       "      <td>...</td>\n",
       "      <td>...</td>\n",
       "    </tr>\n",
       "    <tr>\n",
       "      <th>210</th>\n",
       "      <td>-99</td>\n",
       "      <td>NaN</td>\n",
       "    </tr>\n",
       "    <tr>\n",
       "      <th>211</th>\n",
       "      <td>165</td>\n",
       "      <td>51.0</td>\n",
       "    </tr>\n",
       "    <tr>\n",
       "      <th>212</th>\n",
       "      <td>183</td>\n",
       "      <td>74.0</td>\n",
       "    </tr>\n",
       "    <tr>\n",
       "      <th>213</th>\n",
       "      <td>170</td>\n",
       "      <td>57.0</td>\n",
       "    </tr>\n",
       "    <tr>\n",
       "      <th>214</th>\n",
       "      <td>185</td>\n",
       "      <td>81.0</td>\n",
       "    </tr>\n",
       "  </tbody>\n",
       "</table>\n",
       "<p>215 rows × 2 columns</p>\n",
       "</div>"
      ],
      "text/plain": [
       "     Height  Weight\n",
       "0       185    90.0\n",
       "1       185    88.0\n",
       "2       180    90.0\n",
       "3       178    72.0\n",
       "4       257   173.0\n",
       "..      ...     ...\n",
       "210     -99     NaN\n",
       "211     165    51.0\n",
       "212     183    74.0\n",
       "213     170    57.0\n",
       "214     185    81.0\n",
       "\n",
       "[215 rows x 2 columns]"
      ]
     },
     "execution_count": 106,
     "metadata": {},
     "output_type": "execute_result"
    }
   ],
   "source": [
    "# This is how we select columns of a certain type (e.g. numeric)\n",
    "hero_dc.select_dtypes('number')"
   ]
  },
  {
   "cell_type": "code",
   "execution_count": 107,
   "id": "6a3c4360",
   "metadata": {},
   "outputs": [
    {
     "data": {
      "text/html": [
       "<div>\n",
       "<style scoped>\n",
       "    .dataframe tbody tr th:only-of-type {\n",
       "        vertical-align: middle;\n",
       "    }\n",
       "\n",
       "    .dataframe tbody tr th {\n",
       "        vertical-align: top;\n",
       "    }\n",
       "\n",
       "    .dataframe thead th {\n",
       "        text-align: right;\n",
       "    }\n",
       "</style>\n",
       "<table border=\"1\" class=\"dataframe\">\n",
       "  <thead>\n",
       "    <tr style=\"text-align: right;\">\n",
       "      <th></th>\n",
       "      <th>Name</th>\n",
       "      <th>Gender</th>\n",
       "      <th>Eye Color</th>\n",
       "      <th>Race</th>\n",
       "      <th>Hair Color</th>\n",
       "      <th>Publisher</th>\n",
       "      <th>Alignment</th>\n",
       "    </tr>\n",
       "  </thead>\n",
       "  <tbody>\n",
       "    <tr>\n",
       "      <th>0</th>\n",
       "      <td>Abin Sur</td>\n",
       "      <td>Male</td>\n",
       "      <td>blue</td>\n",
       "      <td>Ungaran</td>\n",
       "      <td>No Hair</td>\n",
       "      <td>DC Comics</td>\n",
       "      <td>good</td>\n",
       "    </tr>\n",
       "    <tr>\n",
       "      <th>1</th>\n",
       "      <td>Adam Strange</td>\n",
       "      <td>Male</td>\n",
       "      <td>blue</td>\n",
       "      <td>Human</td>\n",
       "      <td>Blond</td>\n",
       "      <td>DC Comics</td>\n",
       "      <td>good</td>\n",
       "    </tr>\n",
       "    <tr>\n",
       "      <th>2</th>\n",
       "      <td>Alan Scott</td>\n",
       "      <td>Male</td>\n",
       "      <td>blue</td>\n",
       "      <td>-</td>\n",
       "      <td>Blond</td>\n",
       "      <td>DC Comics</td>\n",
       "      <td>good</td>\n",
       "    </tr>\n",
       "    <tr>\n",
       "      <th>3</th>\n",
       "      <td>Alfred Pennyworth</td>\n",
       "      <td>Male</td>\n",
       "      <td>blue</td>\n",
       "      <td>Human</td>\n",
       "      <td>Black</td>\n",
       "      <td>DC Comics</td>\n",
       "      <td>good</td>\n",
       "    </tr>\n",
       "    <tr>\n",
       "      <th>4</th>\n",
       "      <td>Amazo</td>\n",
       "      <td>Male</td>\n",
       "      <td>red</td>\n",
       "      <td>Android</td>\n",
       "      <td>-</td>\n",
       "      <td>DC Comics</td>\n",
       "      <td>bad</td>\n",
       "    </tr>\n",
       "    <tr>\n",
       "      <th>...</th>\n",
       "      <td>...</td>\n",
       "      <td>...</td>\n",
       "      <td>...</td>\n",
       "      <td>...</td>\n",
       "      <td>...</td>\n",
       "      <td>...</td>\n",
       "      <td>...</td>\n",
       "    </tr>\n",
       "    <tr>\n",
       "      <th>210</th>\n",
       "      <td>Wildfire</td>\n",
       "      <td>Male</td>\n",
       "      <td>-</td>\n",
       "      <td>-</td>\n",
       "      <td>-</td>\n",
       "      <td>DC Comics</td>\n",
       "      <td>good</td>\n",
       "    </tr>\n",
       "    <tr>\n",
       "      <th>211</th>\n",
       "      <td>Wonder Girl</td>\n",
       "      <td>Female</td>\n",
       "      <td>blue</td>\n",
       "      <td>Demi-God</td>\n",
       "      <td>Blond</td>\n",
       "      <td>DC Comics</td>\n",
       "      <td>good</td>\n",
       "    </tr>\n",
       "    <tr>\n",
       "      <th>212</th>\n",
       "      <td>Wonder Woman</td>\n",
       "      <td>Female</td>\n",
       "      <td>blue</td>\n",
       "      <td>Amazon</td>\n",
       "      <td>Black</td>\n",
       "      <td>DC Comics</td>\n",
       "      <td>good</td>\n",
       "    </tr>\n",
       "    <tr>\n",
       "      <th>213</th>\n",
       "      <td>Zatanna</td>\n",
       "      <td>Female</td>\n",
       "      <td>blue</td>\n",
       "      <td>Human</td>\n",
       "      <td>Black</td>\n",
       "      <td>DC Comics</td>\n",
       "      <td>good</td>\n",
       "    </tr>\n",
       "    <tr>\n",
       "      <th>214</th>\n",
       "      <td>Zoom</td>\n",
       "      <td>Male</td>\n",
       "      <td>red</td>\n",
       "      <td>-</td>\n",
       "      <td>Brown</td>\n",
       "      <td>DC Comics</td>\n",
       "      <td>bad</td>\n",
       "    </tr>\n",
       "  </tbody>\n",
       "</table>\n",
       "<p>215 rows × 7 columns</p>\n",
       "</div>"
      ],
      "text/plain": [
       "                  Name  Gender Eye Color      Race Hair Color  Publisher  \\\n",
       "0             Abin Sur    Male      blue   Ungaran    No Hair  DC Comics   \n",
       "1         Adam Strange    Male      blue     Human      Blond  DC Comics   \n",
       "2           Alan Scott    Male      blue         -      Blond  DC Comics   \n",
       "3    Alfred Pennyworth    Male      blue     Human      Black  DC Comics   \n",
       "4                Amazo    Male       red   Android          -  DC Comics   \n",
       "..                 ...     ...       ...       ...        ...        ...   \n",
       "210           Wildfire    Male         -         -          -  DC Comics   \n",
       "211        Wonder Girl  Female      blue  Demi-God      Blond  DC Comics   \n",
       "212       Wonder Woman  Female      blue    Amazon      Black  DC Comics   \n",
       "213            Zatanna  Female      blue     Human      Black  DC Comics   \n",
       "214               Zoom    Male       red         -      Brown  DC Comics   \n",
       "\n",
       "    Alignment  \n",
       "0        good  \n",
       "1        good  \n",
       "2        good  \n",
       "3        good  \n",
       "4         bad  \n",
       "..        ...  \n",
       "210      good  \n",
       "211      good  \n",
       "212      good  \n",
       "213      good  \n",
       "214       bad  \n",
       "\n",
       "[215 rows x 7 columns]"
      ]
     },
     "execution_count": 107,
     "metadata": {},
     "output_type": "execute_result"
    }
   ],
   "source": [
    "# This is how we select all the other columns (not numeric)\n",
    "hero_dc.select_dtypes(exclude = 'number')"
   ]
  },
  {
   "cell_type": "code",
   "execution_count": 108,
   "id": "b6ec9579",
   "metadata": {},
   "outputs": [],
   "source": [
    "# A way to convert the column names to uppercase\n",
    "hero_dc.columns = hero_dc.columns.str.upper()"
   ]
  },
  {
   "cell_type": "code",
   "execution_count": 109,
   "id": "c3679989",
   "metadata": {},
   "outputs": [
    {
     "data": {
      "text/html": [
       "<div>\n",
       "<style scoped>\n",
       "    .dataframe tbody tr th:only-of-type {\n",
       "        vertical-align: middle;\n",
       "    }\n",
       "\n",
       "    .dataframe tbody tr th {\n",
       "        vertical-align: top;\n",
       "    }\n",
       "\n",
       "    .dataframe thead th {\n",
       "        text-align: right;\n",
       "    }\n",
       "</style>\n",
       "<table border=\"1\" class=\"dataframe\">\n",
       "  <thead>\n",
       "    <tr style=\"text-align: right;\">\n",
       "      <th></th>\n",
       "      <th>NAME</th>\n",
       "      <th>GENDER</th>\n",
       "      <th>EYE COLOR</th>\n",
       "      <th>RACE</th>\n",
       "      <th>HAIR COLOR</th>\n",
       "      <th>HEIGHT</th>\n",
       "      <th>PUBLISHER</th>\n",
       "      <th>ALIGNMENT</th>\n",
       "      <th>WEIGHT</th>\n",
       "    </tr>\n",
       "  </thead>\n",
       "  <tbody>\n",
       "    <tr>\n",
       "      <th>0</th>\n",
       "      <td>Abin Sur</td>\n",
       "      <td>Male</td>\n",
       "      <td>blue</td>\n",
       "      <td>Ungaran</td>\n",
       "      <td>No Hair</td>\n",
       "      <td>185</td>\n",
       "      <td>DC Comics</td>\n",
       "      <td>good</td>\n",
       "      <td>90.0</td>\n",
       "    </tr>\n",
       "    <tr>\n",
       "      <th>1</th>\n",
       "      <td>Adam Strange</td>\n",
       "      <td>Male</td>\n",
       "      <td>blue</td>\n",
       "      <td>Human</td>\n",
       "      <td>Blond</td>\n",
       "      <td>185</td>\n",
       "      <td>DC Comics</td>\n",
       "      <td>good</td>\n",
       "      <td>88.0</td>\n",
       "    </tr>\n",
       "    <tr>\n",
       "      <th>2</th>\n",
       "      <td>Alan Scott</td>\n",
       "      <td>Male</td>\n",
       "      <td>blue</td>\n",
       "      <td>-</td>\n",
       "      <td>Blond</td>\n",
       "      <td>180</td>\n",
       "      <td>DC Comics</td>\n",
       "      <td>good</td>\n",
       "      <td>90.0</td>\n",
       "    </tr>\n",
       "    <tr>\n",
       "      <th>3</th>\n",
       "      <td>Alfred Pennyworth</td>\n",
       "      <td>Male</td>\n",
       "      <td>blue</td>\n",
       "      <td>Human</td>\n",
       "      <td>Black</td>\n",
       "      <td>178</td>\n",
       "      <td>DC Comics</td>\n",
       "      <td>good</td>\n",
       "      <td>72.0</td>\n",
       "    </tr>\n",
       "    <tr>\n",
       "      <th>4</th>\n",
       "      <td>Amazo</td>\n",
       "      <td>Male</td>\n",
       "      <td>red</td>\n",
       "      <td>Android</td>\n",
       "      <td>-</td>\n",
       "      <td>257</td>\n",
       "      <td>DC Comics</td>\n",
       "      <td>bad</td>\n",
       "      <td>173.0</td>\n",
       "    </tr>\n",
       "    <tr>\n",
       "      <th>...</th>\n",
       "      <td>...</td>\n",
       "      <td>...</td>\n",
       "      <td>...</td>\n",
       "      <td>...</td>\n",
       "      <td>...</td>\n",
       "      <td>...</td>\n",
       "      <td>...</td>\n",
       "      <td>...</td>\n",
       "      <td>...</td>\n",
       "    </tr>\n",
       "    <tr>\n",
       "      <th>210</th>\n",
       "      <td>Wildfire</td>\n",
       "      <td>Male</td>\n",
       "      <td>-</td>\n",
       "      <td>-</td>\n",
       "      <td>-</td>\n",
       "      <td>-99</td>\n",
       "      <td>DC Comics</td>\n",
       "      <td>good</td>\n",
       "      <td>NaN</td>\n",
       "    </tr>\n",
       "    <tr>\n",
       "      <th>211</th>\n",
       "      <td>Wonder Girl</td>\n",
       "      <td>Female</td>\n",
       "      <td>blue</td>\n",
       "      <td>Demi-God</td>\n",
       "      <td>Blond</td>\n",
       "      <td>165</td>\n",
       "      <td>DC Comics</td>\n",
       "      <td>good</td>\n",
       "      <td>51.0</td>\n",
       "    </tr>\n",
       "    <tr>\n",
       "      <th>212</th>\n",
       "      <td>Wonder Woman</td>\n",
       "      <td>Female</td>\n",
       "      <td>blue</td>\n",
       "      <td>Amazon</td>\n",
       "      <td>Black</td>\n",
       "      <td>183</td>\n",
       "      <td>DC Comics</td>\n",
       "      <td>good</td>\n",
       "      <td>74.0</td>\n",
       "    </tr>\n",
       "    <tr>\n",
       "      <th>213</th>\n",
       "      <td>Zatanna</td>\n",
       "      <td>Female</td>\n",
       "      <td>blue</td>\n",
       "      <td>Human</td>\n",
       "      <td>Black</td>\n",
       "      <td>170</td>\n",
       "      <td>DC Comics</td>\n",
       "      <td>good</td>\n",
       "      <td>57.0</td>\n",
       "    </tr>\n",
       "    <tr>\n",
       "      <th>214</th>\n",
       "      <td>Zoom</td>\n",
       "      <td>Male</td>\n",
       "      <td>red</td>\n",
       "      <td>-</td>\n",
       "      <td>Brown</td>\n",
       "      <td>185</td>\n",
       "      <td>DC Comics</td>\n",
       "      <td>bad</td>\n",
       "      <td>81.0</td>\n",
       "    </tr>\n",
       "  </tbody>\n",
       "</table>\n",
       "<p>215 rows × 9 columns</p>\n",
       "</div>"
      ],
      "text/plain": [
       "                  NAME  GENDER EYE COLOR      RACE HAIR COLOR  HEIGHT  \\\n",
       "0             Abin Sur    Male      blue   Ungaran    No Hair     185   \n",
       "1         Adam Strange    Male      blue     Human      Blond     185   \n",
       "2           Alan Scott    Male      blue         -      Blond     180   \n",
       "3    Alfred Pennyworth    Male      blue     Human      Black     178   \n",
       "4                Amazo    Male       red   Android          -     257   \n",
       "..                 ...     ...       ...       ...        ...     ...   \n",
       "210           Wildfire    Male         -         -          -     -99   \n",
       "211        Wonder Girl  Female      blue  Demi-God      Blond     165   \n",
       "212       Wonder Woman  Female      blue    Amazon      Black     183   \n",
       "213            Zatanna  Female      blue     Human      Black     170   \n",
       "214               Zoom    Male       red         -      Brown     185   \n",
       "\n",
       "     PUBLISHER ALIGNMENT  WEIGHT  \n",
       "0    DC Comics      good    90.0  \n",
       "1    DC Comics      good    88.0  \n",
       "2    DC Comics      good    90.0  \n",
       "3    DC Comics      good    72.0  \n",
       "4    DC Comics       bad   173.0  \n",
       "..         ...       ...     ...  \n",
       "210  DC Comics      good     NaN  \n",
       "211  DC Comics      good    51.0  \n",
       "212  DC Comics      good    74.0  \n",
       "213  DC Comics      good    57.0  \n",
       "214  DC Comics       bad    81.0  \n",
       "\n",
       "[215 rows x 9 columns]"
      ]
     },
     "execution_count": 109,
     "metadata": {},
     "output_type": "execute_result"
    }
   ],
   "source": [
    "# Another way to convert the column names to uppercase\n",
    "hero_dc.rename(mapper=str.upper, axis=1) # This can be also applied to the index (rows) using axis=0"
   ]
  },
  {
   "cell_type": "markdown",
   "id": "227b109c",
   "metadata": {},
   "source": [
    "### Selecting certain rows using loc and iloc"
   ]
  },
  {
   "cell_type": "code",
   "execution_count": 110,
   "id": "34385fee",
   "metadata": {},
   "outputs": [
    {
     "data": {
      "text/html": [
       "<div>\n",
       "<style scoped>\n",
       "    .dataframe tbody tr th:only-of-type {\n",
       "        vertical-align: middle;\n",
       "    }\n",
       "\n",
       "    .dataframe tbody tr th {\n",
       "        vertical-align: top;\n",
       "    }\n",
       "\n",
       "    .dataframe thead th {\n",
       "        text-align: right;\n",
       "    }\n",
       "</style>\n",
       "<table border=\"1\" class=\"dataframe\">\n",
       "  <thead>\n",
       "    <tr style=\"text-align: right;\">\n",
       "      <th></th>\n",
       "      <th>NAME</th>\n",
       "      <th>GENDER</th>\n",
       "      <th>EYE COLOR</th>\n",
       "      <th>RACE</th>\n",
       "      <th>HAIR COLOR</th>\n",
       "      <th>HEIGHT</th>\n",
       "      <th>PUBLISHER</th>\n",
       "      <th>ALIGNMENT</th>\n",
       "      <th>WEIGHT</th>\n",
       "    </tr>\n",
       "  </thead>\n",
       "  <tbody>\n",
       "    <tr>\n",
       "      <th>0</th>\n",
       "      <td>Abin Sur</td>\n",
       "      <td>Male</td>\n",
       "      <td>blue</td>\n",
       "      <td>Ungaran</td>\n",
       "      <td>No Hair</td>\n",
       "      <td>185</td>\n",
       "      <td>DC Comics</td>\n",
       "      <td>good</td>\n",
       "      <td>90.0</td>\n",
       "    </tr>\n",
       "    <tr>\n",
       "      <th>1</th>\n",
       "      <td>Adam Strange</td>\n",
       "      <td>Male</td>\n",
       "      <td>blue</td>\n",
       "      <td>Human</td>\n",
       "      <td>Blond</td>\n",
       "      <td>185</td>\n",
       "      <td>DC Comics</td>\n",
       "      <td>good</td>\n",
       "      <td>88.0</td>\n",
       "    </tr>\n",
       "    <tr>\n",
       "      <th>2</th>\n",
       "      <td>Alan Scott</td>\n",
       "      <td>Male</td>\n",
       "      <td>blue</td>\n",
       "      <td>-</td>\n",
       "      <td>Blond</td>\n",
       "      <td>180</td>\n",
       "      <td>DC Comics</td>\n",
       "      <td>good</td>\n",
       "      <td>90.0</td>\n",
       "    </tr>\n",
       "    <tr>\n",
       "      <th>3</th>\n",
       "      <td>Alfred Pennyworth</td>\n",
       "      <td>Male</td>\n",
       "      <td>blue</td>\n",
       "      <td>Human</td>\n",
       "      <td>Black</td>\n",
       "      <td>178</td>\n",
       "      <td>DC Comics</td>\n",
       "      <td>good</td>\n",
       "      <td>72.0</td>\n",
       "    </tr>\n",
       "    <tr>\n",
       "      <th>4</th>\n",
       "      <td>Amazo</td>\n",
       "      <td>Male</td>\n",
       "      <td>red</td>\n",
       "      <td>Android</td>\n",
       "      <td>-</td>\n",
       "      <td>257</td>\n",
       "      <td>DC Comics</td>\n",
       "      <td>bad</td>\n",
       "      <td>173.0</td>\n",
       "    </tr>\n",
       "  </tbody>\n",
       "</table>\n",
       "</div>"
      ],
      "text/plain": [
       "                NAME GENDER EYE COLOR     RACE HAIR COLOR  HEIGHT  PUBLISHER  \\\n",
       "0           Abin Sur   Male      blue  Ungaran    No Hair     185  DC Comics   \n",
       "1       Adam Strange   Male      blue    Human      Blond     185  DC Comics   \n",
       "2         Alan Scott   Male      blue        -      Blond     180  DC Comics   \n",
       "3  Alfred Pennyworth   Male      blue    Human      Black     178  DC Comics   \n",
       "4              Amazo   Male       red  Android          -     257  DC Comics   \n",
       "\n",
       "  ALIGNMENT  WEIGHT  \n",
       "0      good    90.0  \n",
       "1      good    88.0  \n",
       "2      good    90.0  \n",
       "3      good    72.0  \n",
       "4       bad   173.0  "
      ]
     },
     "execution_count": 110,
     "metadata": {},
     "output_type": "execute_result"
    }
   ],
   "source": [
    "hero_dc.head()"
   ]
  },
  {
   "cell_type": "code",
   "execution_count": 111,
   "id": "9922b51e",
   "metadata": {},
   "outputs": [],
   "source": [
    "hero_dc = hero_dc.set_index('NAME')"
   ]
  },
  {
   "cell_type": "code",
   "execution_count": 112,
   "id": "7112ff91",
   "metadata": {},
   "outputs": [
    {
     "data": {
      "text/html": [
       "<div>\n",
       "<style scoped>\n",
       "    .dataframe tbody tr th:only-of-type {\n",
       "        vertical-align: middle;\n",
       "    }\n",
       "\n",
       "    .dataframe tbody tr th {\n",
       "        vertical-align: top;\n",
       "    }\n",
       "\n",
       "    .dataframe thead th {\n",
       "        text-align: right;\n",
       "    }\n",
       "</style>\n",
       "<table border=\"1\" class=\"dataframe\">\n",
       "  <thead>\n",
       "    <tr style=\"text-align: right;\">\n",
       "      <th></th>\n",
       "      <th>GENDER</th>\n",
       "      <th>EYE COLOR</th>\n",
       "      <th>RACE</th>\n",
       "      <th>HAIR COLOR</th>\n",
       "      <th>HEIGHT</th>\n",
       "      <th>PUBLISHER</th>\n",
       "      <th>ALIGNMENT</th>\n",
       "      <th>WEIGHT</th>\n",
       "    </tr>\n",
       "    <tr>\n",
       "      <th>NAME</th>\n",
       "      <th></th>\n",
       "      <th></th>\n",
       "      <th></th>\n",
       "      <th></th>\n",
       "      <th></th>\n",
       "      <th></th>\n",
       "      <th></th>\n",
       "      <th></th>\n",
       "    </tr>\n",
       "  </thead>\n",
       "  <tbody>\n",
       "    <tr>\n",
       "      <th>Abin Sur</th>\n",
       "      <td>Male</td>\n",
       "      <td>blue</td>\n",
       "      <td>Ungaran</td>\n",
       "      <td>No Hair</td>\n",
       "      <td>185</td>\n",
       "      <td>DC Comics</td>\n",
       "      <td>good</td>\n",
       "      <td>90.0</td>\n",
       "    </tr>\n",
       "    <tr>\n",
       "      <th>Adam Strange</th>\n",
       "      <td>Male</td>\n",
       "      <td>blue</td>\n",
       "      <td>Human</td>\n",
       "      <td>Blond</td>\n",
       "      <td>185</td>\n",
       "      <td>DC Comics</td>\n",
       "      <td>good</td>\n",
       "      <td>88.0</td>\n",
       "    </tr>\n",
       "    <tr>\n",
       "      <th>Alan Scott</th>\n",
       "      <td>Male</td>\n",
       "      <td>blue</td>\n",
       "      <td>-</td>\n",
       "      <td>Blond</td>\n",
       "      <td>180</td>\n",
       "      <td>DC Comics</td>\n",
       "      <td>good</td>\n",
       "      <td>90.0</td>\n",
       "    </tr>\n",
       "    <tr>\n",
       "      <th>Alfred Pennyworth</th>\n",
       "      <td>Male</td>\n",
       "      <td>blue</td>\n",
       "      <td>Human</td>\n",
       "      <td>Black</td>\n",
       "      <td>178</td>\n",
       "      <td>DC Comics</td>\n",
       "      <td>good</td>\n",
       "      <td>72.0</td>\n",
       "    </tr>\n",
       "    <tr>\n",
       "      <th>Amazo</th>\n",
       "      <td>Male</td>\n",
       "      <td>red</td>\n",
       "      <td>Android</td>\n",
       "      <td>-</td>\n",
       "      <td>257</td>\n",
       "      <td>DC Comics</td>\n",
       "      <td>bad</td>\n",
       "      <td>173.0</td>\n",
       "    </tr>\n",
       "  </tbody>\n",
       "</table>\n",
       "</div>"
      ],
      "text/plain": [
       "                  GENDER EYE COLOR     RACE HAIR COLOR  HEIGHT  PUBLISHER  \\\n",
       "NAME                                                                        \n",
       "Abin Sur            Male      blue  Ungaran    No Hair     185  DC Comics   \n",
       "Adam Strange        Male      blue    Human      Blond     185  DC Comics   \n",
       "Alan Scott          Male      blue        -      Blond     180  DC Comics   \n",
       "Alfred Pennyworth   Male      blue    Human      Black     178  DC Comics   \n",
       "Amazo               Male       red  Android          -     257  DC Comics   \n",
       "\n",
       "                  ALIGNMENT  WEIGHT  \n",
       "NAME                                 \n",
       "Abin Sur               good    90.0  \n",
       "Adam Strange           good    88.0  \n",
       "Alan Scott             good    90.0  \n",
       "Alfred Pennyworth      good    72.0  \n",
       "Amazo                   bad   173.0  "
      ]
     },
     "execution_count": 112,
     "metadata": {},
     "output_type": "execute_result"
    }
   ],
   "source": [
    "hero_dc.head()"
   ]
  },
  {
   "cell_type": "code",
   "execution_count": 113,
   "id": "5f2089a0",
   "metadata": {},
   "outputs": [
    {
     "data": {
      "text/html": [
       "<div>\n",
       "<style scoped>\n",
       "    .dataframe tbody tr th:only-of-type {\n",
       "        vertical-align: middle;\n",
       "    }\n",
       "\n",
       "    .dataframe tbody tr th {\n",
       "        vertical-align: top;\n",
       "    }\n",
       "\n",
       "    .dataframe thead th {\n",
       "        text-align: right;\n",
       "    }\n",
       "</style>\n",
       "<table border=\"1\" class=\"dataframe\">\n",
       "  <thead>\n",
       "    <tr style=\"text-align: right;\">\n",
       "      <th></th>\n",
       "      <th>GENDER</th>\n",
       "      <th>EYE COLOR</th>\n",
       "      <th>RACE</th>\n",
       "      <th>HAIR COLOR</th>\n",
       "      <th>HEIGHT</th>\n",
       "      <th>PUBLISHER</th>\n",
       "      <th>ALIGNMENT</th>\n",
       "      <th>WEIGHT</th>\n",
       "    </tr>\n",
       "    <tr>\n",
       "      <th>NAME</th>\n",
       "      <th></th>\n",
       "      <th></th>\n",
       "      <th></th>\n",
       "      <th></th>\n",
       "      <th></th>\n",
       "      <th></th>\n",
       "      <th></th>\n",
       "      <th></th>\n",
       "    </tr>\n",
       "  </thead>\n",
       "  <tbody>\n",
       "    <tr>\n",
       "      <th>Abin Sur</th>\n",
       "      <td>Male</td>\n",
       "      <td>blue</td>\n",
       "      <td>Ungaran</td>\n",
       "      <td>No Hair</td>\n",
       "      <td>185</td>\n",
       "      <td>DC Comics</td>\n",
       "      <td>good</td>\n",
       "      <td>90.0</td>\n",
       "    </tr>\n",
       "    <tr>\n",
       "      <th>Adam Strange</th>\n",
       "      <td>Male</td>\n",
       "      <td>blue</td>\n",
       "      <td>Human</td>\n",
       "      <td>Blond</td>\n",
       "      <td>185</td>\n",
       "      <td>DC Comics</td>\n",
       "      <td>good</td>\n",
       "      <td>88.0</td>\n",
       "    </tr>\n",
       "    <tr>\n",
       "      <th>Alan Scott</th>\n",
       "      <td>Male</td>\n",
       "      <td>blue</td>\n",
       "      <td>-</td>\n",
       "      <td>Blond</td>\n",
       "      <td>180</td>\n",
       "      <td>DC Comics</td>\n",
       "      <td>good</td>\n",
       "      <td>90.0</td>\n",
       "    </tr>\n",
       "  </tbody>\n",
       "</table>\n",
       "</div>"
      ],
      "text/plain": [
       "             GENDER EYE COLOR     RACE HAIR COLOR  HEIGHT  PUBLISHER  \\\n",
       "NAME                                                                   \n",
       "Abin Sur       Male      blue  Ungaran    No Hair     185  DC Comics   \n",
       "Adam Strange   Male      blue    Human      Blond     185  DC Comics   \n",
       "Alan Scott     Male      blue        -      Blond     180  DC Comics   \n",
       "\n",
       "             ALIGNMENT  WEIGHT  \n",
       "NAME                            \n",
       "Abin Sur          good    90.0  \n",
       "Adam Strange      good    88.0  \n",
       "Alan Scott        good    90.0  "
      ]
     },
     "execution_count": 113,
     "metadata": {},
     "output_type": "execute_result"
    }
   ],
   "source": [
    "hero_dc.loc[['Abin Sur','Adam Strange', 'Alan Scott']]"
   ]
  },
  {
   "cell_type": "code",
   "execution_count": 114,
   "id": "118d96ee",
   "metadata": {},
   "outputs": [
    {
     "data": {
      "text/html": [
       "<div>\n",
       "<style scoped>\n",
       "    .dataframe tbody tr th:only-of-type {\n",
       "        vertical-align: middle;\n",
       "    }\n",
       "\n",
       "    .dataframe tbody tr th {\n",
       "        vertical-align: top;\n",
       "    }\n",
       "\n",
       "    .dataframe thead th {\n",
       "        text-align: right;\n",
       "    }\n",
       "</style>\n",
       "<table border=\"1\" class=\"dataframe\">\n",
       "  <thead>\n",
       "    <tr style=\"text-align: right;\">\n",
       "      <th></th>\n",
       "      <th>GENDER</th>\n",
       "      <th>EYE COLOR</th>\n",
       "      <th>RACE</th>\n",
       "      <th>HAIR COLOR</th>\n",
       "      <th>HEIGHT</th>\n",
       "      <th>PUBLISHER</th>\n",
       "      <th>ALIGNMENT</th>\n",
       "      <th>WEIGHT</th>\n",
       "    </tr>\n",
       "    <tr>\n",
       "      <th>NAME</th>\n",
       "      <th></th>\n",
       "      <th></th>\n",
       "      <th></th>\n",
       "      <th></th>\n",
       "      <th></th>\n",
       "      <th></th>\n",
       "      <th></th>\n",
       "      <th></th>\n",
       "    </tr>\n",
       "  </thead>\n",
       "  <tbody>\n",
       "    <tr>\n",
       "      <th>Abin Sur</th>\n",
       "      <td>Male</td>\n",
       "      <td>blue</td>\n",
       "      <td>Ungaran</td>\n",
       "      <td>No Hair</td>\n",
       "      <td>185</td>\n",
       "      <td>DC Comics</td>\n",
       "      <td>good</td>\n",
       "      <td>90.0</td>\n",
       "    </tr>\n",
       "    <tr>\n",
       "      <th>Adam Strange</th>\n",
       "      <td>Male</td>\n",
       "      <td>blue</td>\n",
       "      <td>Human</td>\n",
       "      <td>Blond</td>\n",
       "      <td>185</td>\n",
       "      <td>DC Comics</td>\n",
       "      <td>good</td>\n",
       "      <td>88.0</td>\n",
       "    </tr>\n",
       "    <tr>\n",
       "      <th>Alan Scott</th>\n",
       "      <td>Male</td>\n",
       "      <td>blue</td>\n",
       "      <td>-</td>\n",
       "      <td>Blond</td>\n",
       "      <td>180</td>\n",
       "      <td>DC Comics</td>\n",
       "      <td>good</td>\n",
       "      <td>90.0</td>\n",
       "    </tr>\n",
       "  </tbody>\n",
       "</table>\n",
       "</div>"
      ],
      "text/plain": [
       "             GENDER EYE COLOR     RACE HAIR COLOR  HEIGHT  PUBLISHER  \\\n",
       "NAME                                                                   \n",
       "Abin Sur       Male      blue  Ungaran    No Hair     185  DC Comics   \n",
       "Adam Strange   Male      blue    Human      Blond     185  DC Comics   \n",
       "Alan Scott     Male      blue        -      Blond     180  DC Comics   \n",
       "\n",
       "             ALIGNMENT  WEIGHT  \n",
       "NAME                            \n",
       "Abin Sur          good    90.0  \n",
       "Adam Strange      good    88.0  \n",
       "Alan Scott        good    90.0  "
      ]
     },
     "execution_count": 114,
     "metadata": {},
     "output_type": "execute_result"
    }
   ],
   "source": [
    "hero_dc.loc['Abin Sur':'Alan Scott']"
   ]
  },
  {
   "cell_type": "code",
   "execution_count": 115,
   "id": "78010ea8",
   "metadata": {},
   "outputs": [
    {
     "data": {
      "text/plain": [
       "GENDER             Male\n",
       "EYE COLOR          blue\n",
       "RACE            Ungaran\n",
       "HAIR COLOR      No Hair\n",
       "HEIGHT              185\n",
       "PUBLISHER     DC Comics\n",
       "ALIGNMENT          good\n",
       "WEIGHT             90.0\n",
       "Name: Abin Sur, dtype: object"
      ]
     },
     "execution_count": 115,
     "metadata": {},
     "output_type": "execute_result"
    }
   ],
   "source": [
    "hero_dc.iloc[0]"
   ]
  },
  {
   "cell_type": "code",
   "execution_count": 116,
   "id": "c2876eb1",
   "metadata": {},
   "outputs": [
    {
     "data": {
      "text/html": [
       "<div>\n",
       "<style scoped>\n",
       "    .dataframe tbody tr th:only-of-type {\n",
       "        vertical-align: middle;\n",
       "    }\n",
       "\n",
       "    .dataframe tbody tr th {\n",
       "        vertical-align: top;\n",
       "    }\n",
       "\n",
       "    .dataframe thead th {\n",
       "        text-align: right;\n",
       "    }\n",
       "</style>\n",
       "<table border=\"1\" class=\"dataframe\">\n",
       "  <thead>\n",
       "    <tr style=\"text-align: right;\">\n",
       "      <th></th>\n",
       "      <th>GENDER</th>\n",
       "      <th>EYE COLOR</th>\n",
       "      <th>RACE</th>\n",
       "      <th>HAIR COLOR</th>\n",
       "      <th>HEIGHT</th>\n",
       "      <th>PUBLISHER</th>\n",
       "      <th>ALIGNMENT</th>\n",
       "      <th>WEIGHT</th>\n",
       "    </tr>\n",
       "    <tr>\n",
       "      <th>NAME</th>\n",
       "      <th></th>\n",
       "      <th></th>\n",
       "      <th></th>\n",
       "      <th></th>\n",
       "      <th></th>\n",
       "      <th></th>\n",
       "      <th></th>\n",
       "      <th></th>\n",
       "    </tr>\n",
       "  </thead>\n",
       "  <tbody>\n",
       "    <tr>\n",
       "      <th>Abin Sur</th>\n",
       "      <td>Male</td>\n",
       "      <td>blue</td>\n",
       "      <td>Ungaran</td>\n",
       "      <td>No Hair</td>\n",
       "      <td>185</td>\n",
       "      <td>DC Comics</td>\n",
       "      <td>good</td>\n",
       "      <td>90.0</td>\n",
       "    </tr>\n",
       "    <tr>\n",
       "      <th>Adam Strange</th>\n",
       "      <td>Male</td>\n",
       "      <td>blue</td>\n",
       "      <td>Human</td>\n",
       "      <td>Blond</td>\n",
       "      <td>185</td>\n",
       "      <td>DC Comics</td>\n",
       "      <td>good</td>\n",
       "      <td>88.0</td>\n",
       "    </tr>\n",
       "    <tr>\n",
       "      <th>Alan Scott</th>\n",
       "      <td>Male</td>\n",
       "      <td>blue</td>\n",
       "      <td>-</td>\n",
       "      <td>Blond</td>\n",
       "      <td>180</td>\n",
       "      <td>DC Comics</td>\n",
       "      <td>good</td>\n",
       "      <td>90.0</td>\n",
       "    </tr>\n",
       "  </tbody>\n",
       "</table>\n",
       "</div>"
      ],
      "text/plain": [
       "             GENDER EYE COLOR     RACE HAIR COLOR  HEIGHT  PUBLISHER  \\\n",
       "NAME                                                                   \n",
       "Abin Sur       Male      blue  Ungaran    No Hair     185  DC Comics   \n",
       "Adam Strange   Male      blue    Human      Blond     185  DC Comics   \n",
       "Alan Scott     Male      blue        -      Blond     180  DC Comics   \n",
       "\n",
       "             ALIGNMENT  WEIGHT  \n",
       "NAME                            \n",
       "Abin Sur          good    90.0  \n",
       "Adam Strange      good    88.0  \n",
       "Alan Scott        good    90.0  "
      ]
     },
     "execution_count": 116,
     "metadata": {},
     "output_type": "execute_result"
    }
   ],
   "source": [
    "# Be careful when using loc vs. iloc\n",
    "# loc includes first and last entry\n",
    "# iloc includes the first entry but not the last one\n",
    "hero_dc.iloc[0:3]"
   ]
  },
  {
   "cell_type": "markdown",
   "id": "35c3c3ba",
   "metadata": {},
   "source": [
    "### Subsetting of dataframes"
   ]
  },
  {
   "cell_type": "code",
   "execution_count": 117,
   "id": "5a74d9d7",
   "metadata": {},
   "outputs": [
    {
     "data": {
      "text/html": [
       "<div>\n",
       "<style scoped>\n",
       "    .dataframe tbody tr th:only-of-type {\n",
       "        vertical-align: middle;\n",
       "    }\n",
       "\n",
       "    .dataframe tbody tr th {\n",
       "        vertical-align: top;\n",
       "    }\n",
       "\n",
       "    .dataframe thead th {\n",
       "        text-align: right;\n",
       "    }\n",
       "</style>\n",
       "<table border=\"1\" class=\"dataframe\">\n",
       "  <thead>\n",
       "    <tr style=\"text-align: right;\">\n",
       "      <th></th>\n",
       "      <th>GENDER</th>\n",
       "      <th>EYE COLOR</th>\n",
       "      <th>RACE</th>\n",
       "    </tr>\n",
       "    <tr>\n",
       "      <th>NAME</th>\n",
       "      <th></th>\n",
       "      <th></th>\n",
       "      <th></th>\n",
       "    </tr>\n",
       "  </thead>\n",
       "  <tbody>\n",
       "    <tr>\n",
       "      <th>Abin Sur</th>\n",
       "      <td>Male</td>\n",
       "      <td>blue</td>\n",
       "      <td>Ungaran</td>\n",
       "    </tr>\n",
       "    <tr>\n",
       "      <th>Adam Strange</th>\n",
       "      <td>Male</td>\n",
       "      <td>blue</td>\n",
       "      <td>Human</td>\n",
       "    </tr>\n",
       "    <tr>\n",
       "      <th>Alan Scott</th>\n",
       "      <td>Male</td>\n",
       "      <td>blue</td>\n",
       "      <td>-</td>\n",
       "    </tr>\n",
       "  </tbody>\n",
       "</table>\n",
       "</div>"
      ],
      "text/plain": [
       "             GENDER EYE COLOR     RACE\n",
       "NAME                                  \n",
       "Abin Sur       Male      blue  Ungaran\n",
       "Adam Strange   Male      blue    Human\n",
       "Alan Scott     Male      blue        -"
      ]
     },
     "execution_count": 117,
     "metadata": {},
     "output_type": "execute_result"
    }
   ],
   "source": [
    "# Select the first three rows and three columns using loc\n",
    "hero_dc.loc['Abin Sur':'Alan Scott','GENDER':'RACE']"
   ]
  },
  {
   "cell_type": "code",
   "execution_count": 118,
   "id": "1826597c",
   "metadata": {},
   "outputs": [
    {
     "data": {
      "text/html": [
       "<div>\n",
       "<style scoped>\n",
       "    .dataframe tbody tr th:only-of-type {\n",
       "        vertical-align: middle;\n",
       "    }\n",
       "\n",
       "    .dataframe tbody tr th {\n",
       "        vertical-align: top;\n",
       "    }\n",
       "\n",
       "    .dataframe thead th {\n",
       "        text-align: right;\n",
       "    }\n",
       "</style>\n",
       "<table border=\"1\" class=\"dataframe\">\n",
       "  <thead>\n",
       "    <tr style=\"text-align: right;\">\n",
       "      <th></th>\n",
       "      <th>GENDER</th>\n",
       "      <th>EYE COLOR</th>\n",
       "      <th>RACE</th>\n",
       "    </tr>\n",
       "    <tr>\n",
       "      <th>NAME</th>\n",
       "      <th></th>\n",
       "      <th></th>\n",
       "      <th></th>\n",
       "    </tr>\n",
       "  </thead>\n",
       "  <tbody>\n",
       "    <tr>\n",
       "      <th>Abin Sur</th>\n",
       "      <td>Male</td>\n",
       "      <td>blue</td>\n",
       "      <td>Ungaran</td>\n",
       "    </tr>\n",
       "    <tr>\n",
       "      <th>Adam Strange</th>\n",
       "      <td>Male</td>\n",
       "      <td>blue</td>\n",
       "      <td>Human</td>\n",
       "    </tr>\n",
       "    <tr>\n",
       "      <th>Alan Scott</th>\n",
       "      <td>Male</td>\n",
       "      <td>blue</td>\n",
       "      <td>-</td>\n",
       "    </tr>\n",
       "  </tbody>\n",
       "</table>\n",
       "</div>"
      ],
      "text/plain": [
       "             GENDER EYE COLOR     RACE\n",
       "NAME                                  \n",
       "Abin Sur       Male      blue  Ungaran\n",
       "Adam Strange   Male      blue    Human\n",
       "Alan Scott     Male      blue        -"
      ]
     },
     "execution_count": 118,
     "metadata": {},
     "output_type": "execute_result"
    }
   ],
   "source": [
    "# Select the first three rows and three columns using iloc\n",
    "hero_dc.iloc[0:3,0:3]"
   ]
  },
  {
   "cell_type": "markdown",
   "id": "634e5d95",
   "metadata": {},
   "source": [
    "### Modifying values"
   ]
  },
  {
   "cell_type": "code",
   "execution_count": 168,
   "id": "86acd42d",
   "metadata": {},
   "outputs": [],
   "source": [
    "import pandas as pd"
   ]
  },
  {
   "cell_type": "code",
   "execution_count": 169,
   "id": "6be65532",
   "metadata": {},
   "outputs": [],
   "source": [
    "hero_dc = pd.read_pickle('/Users/chlazaris/Documents/Scripts/pandas/hero_dc_pickle.pkl')"
   ]
  },
  {
   "cell_type": "code",
   "execution_count": 170,
   "id": "0ce9ae9e",
   "metadata": {},
   "outputs": [
    {
     "data": {
      "text/html": [
       "<div>\n",
       "<style scoped>\n",
       "    .dataframe tbody tr th:only-of-type {\n",
       "        vertical-align: middle;\n",
       "    }\n",
       "\n",
       "    .dataframe tbody tr th {\n",
       "        vertical-align: top;\n",
       "    }\n",
       "\n",
       "    .dataframe thead th {\n",
       "        text-align: right;\n",
       "    }\n",
       "</style>\n",
       "<table border=\"1\" class=\"dataframe\">\n",
       "  <thead>\n",
       "    <tr style=\"text-align: right;\">\n",
       "      <th></th>\n",
       "      <th>name</th>\n",
       "      <th>Gender</th>\n",
       "      <th>Eye color</th>\n",
       "      <th>Race</th>\n",
       "      <th>Hair color</th>\n",
       "      <th>Height</th>\n",
       "      <th>Publisher</th>\n",
       "      <th>Alignment</th>\n",
       "      <th>Weight</th>\n",
       "    </tr>\n",
       "  </thead>\n",
       "  <tbody>\n",
       "    <tr>\n",
       "      <th>0</th>\n",
       "      <td>Abin Sur</td>\n",
       "      <td>Male</td>\n",
       "      <td>blue</td>\n",
       "      <td>Ungaran</td>\n",
       "      <td>No Hair</td>\n",
       "      <td>185</td>\n",
       "      <td>DC Comics</td>\n",
       "      <td>good</td>\n",
       "      <td>90.0</td>\n",
       "    </tr>\n",
       "    <tr>\n",
       "      <th>1</th>\n",
       "      <td>Adam Strange</td>\n",
       "      <td>Male</td>\n",
       "      <td>blue</td>\n",
       "      <td>Human</td>\n",
       "      <td>Blond</td>\n",
       "      <td>185</td>\n",
       "      <td>DC Comics</td>\n",
       "      <td>good</td>\n",
       "      <td>88.0</td>\n",
       "    </tr>\n",
       "    <tr>\n",
       "      <th>2</th>\n",
       "      <td>Alan Scott</td>\n",
       "      <td>Male</td>\n",
       "      <td>blue</td>\n",
       "      <td>-</td>\n",
       "      <td>Blond</td>\n",
       "      <td>180</td>\n",
       "      <td>DC Comics</td>\n",
       "      <td>good</td>\n",
       "      <td>90.0</td>\n",
       "    </tr>\n",
       "    <tr>\n",
       "      <th>3</th>\n",
       "      <td>Alfred Pennyworth</td>\n",
       "      <td>Male</td>\n",
       "      <td>blue</td>\n",
       "      <td>Human</td>\n",
       "      <td>Black</td>\n",
       "      <td>178</td>\n",
       "      <td>DC Comics</td>\n",
       "      <td>good</td>\n",
       "      <td>72.0</td>\n",
       "    </tr>\n",
       "    <tr>\n",
       "      <th>4</th>\n",
       "      <td>Amazo</td>\n",
       "      <td>Male</td>\n",
       "      <td>red</td>\n",
       "      <td>Android</td>\n",
       "      <td>-</td>\n",
       "      <td>257</td>\n",
       "      <td>DC Comics</td>\n",
       "      <td>bad</td>\n",
       "      <td>173.0</td>\n",
       "    </tr>\n",
       "  </tbody>\n",
       "</table>\n",
       "</div>"
      ],
      "text/plain": [
       "                name Gender Eye color     Race Hair color  Height  Publisher  \\\n",
       "0           Abin Sur   Male      blue  Ungaran    No Hair     185  DC Comics   \n",
       "1       Adam Strange   Male      blue    Human      Blond     185  DC Comics   \n",
       "2         Alan Scott   Male      blue        -      Blond     180  DC Comics   \n",
       "3  Alfred Pennyworth   Male      blue    Human      Black     178  DC Comics   \n",
       "4              Amazo   Male       red  Android          -     257  DC Comics   \n",
       "\n",
       "  Alignment  Weight  \n",
       "0      good    90.0  \n",
       "1      good    88.0  \n",
       "2      good    90.0  \n",
       "3      good    72.0  \n",
       "4       bad   173.0  "
      ]
     },
     "execution_count": 170,
     "metadata": {},
     "output_type": "execute_result"
    }
   ],
   "source": [
    "hero_dc.head()"
   ]
  },
  {
   "cell_type": "code",
   "execution_count": 171,
   "id": "9ac81227",
   "metadata": {},
   "outputs": [],
   "source": [
    "# Add the race to Alan Scott\n",
    "hero_dc.loc[2, 'Race'] = 'Unknown'"
   ]
  },
  {
   "cell_type": "code",
   "execution_count": 172,
   "id": "aba9711e",
   "metadata": {},
   "outputs": [
    {
     "data": {
      "text/html": [
       "<div>\n",
       "<style scoped>\n",
       "    .dataframe tbody tr th:only-of-type {\n",
       "        vertical-align: middle;\n",
       "    }\n",
       "\n",
       "    .dataframe tbody tr th {\n",
       "        vertical-align: top;\n",
       "    }\n",
       "\n",
       "    .dataframe thead th {\n",
       "        text-align: right;\n",
       "    }\n",
       "</style>\n",
       "<table border=\"1\" class=\"dataframe\">\n",
       "  <thead>\n",
       "    <tr style=\"text-align: right;\">\n",
       "      <th></th>\n",
       "      <th>name</th>\n",
       "      <th>Gender</th>\n",
       "      <th>Eye color</th>\n",
       "      <th>Race</th>\n",
       "      <th>Hair color</th>\n",
       "      <th>Height</th>\n",
       "      <th>Publisher</th>\n",
       "      <th>Alignment</th>\n",
       "      <th>Weight</th>\n",
       "    </tr>\n",
       "  </thead>\n",
       "  <tbody>\n",
       "    <tr>\n",
       "      <th>0</th>\n",
       "      <td>Abin Sur</td>\n",
       "      <td>Male</td>\n",
       "      <td>blue</td>\n",
       "      <td>Ungaran</td>\n",
       "      <td>No Hair</td>\n",
       "      <td>185</td>\n",
       "      <td>DC Comics</td>\n",
       "      <td>good</td>\n",
       "      <td>90.0</td>\n",
       "    </tr>\n",
       "    <tr>\n",
       "      <th>1</th>\n",
       "      <td>Adam Strange</td>\n",
       "      <td>Male</td>\n",
       "      <td>blue</td>\n",
       "      <td>Human</td>\n",
       "      <td>Blond</td>\n",
       "      <td>185</td>\n",
       "      <td>DC Comics</td>\n",
       "      <td>good</td>\n",
       "      <td>88.0</td>\n",
       "    </tr>\n",
       "    <tr>\n",
       "      <th>2</th>\n",
       "      <td>Alan Scott</td>\n",
       "      <td>Male</td>\n",
       "      <td>blue</td>\n",
       "      <td>Unknown</td>\n",
       "      <td>Blond</td>\n",
       "      <td>180</td>\n",
       "      <td>DC Comics</td>\n",
       "      <td>good</td>\n",
       "      <td>90.0</td>\n",
       "    </tr>\n",
       "    <tr>\n",
       "      <th>3</th>\n",
       "      <td>Alfred Pennyworth</td>\n",
       "      <td>Male</td>\n",
       "      <td>blue</td>\n",
       "      <td>Human</td>\n",
       "      <td>Black</td>\n",
       "      <td>178</td>\n",
       "      <td>DC Comics</td>\n",
       "      <td>good</td>\n",
       "      <td>72.0</td>\n",
       "    </tr>\n",
       "    <tr>\n",
       "      <th>4</th>\n",
       "      <td>Amazo</td>\n",
       "      <td>Male</td>\n",
       "      <td>red</td>\n",
       "      <td>Android</td>\n",
       "      <td>-</td>\n",
       "      <td>257</td>\n",
       "      <td>DC Comics</td>\n",
       "      <td>bad</td>\n",
       "      <td>173.0</td>\n",
       "    </tr>\n",
       "  </tbody>\n",
       "</table>\n",
       "</div>"
      ],
      "text/plain": [
       "                name Gender Eye color     Race Hair color  Height  Publisher  \\\n",
       "0           Abin Sur   Male      blue  Ungaran    No Hair     185  DC Comics   \n",
       "1       Adam Strange   Male      blue    Human      Blond     185  DC Comics   \n",
       "2         Alan Scott   Male      blue  Unknown      Blond     180  DC Comics   \n",
       "3  Alfred Pennyworth   Male      blue    Human      Black     178  DC Comics   \n",
       "4              Amazo   Male       red  Android          -     257  DC Comics   \n",
       "\n",
       "  Alignment  Weight  \n",
       "0      good    90.0  \n",
       "1      good    88.0  \n",
       "2      good    90.0  \n",
       "3      good    72.0  \n",
       "4       bad   173.0  "
      ]
     },
     "execution_count": 172,
     "metadata": {},
     "output_type": "execute_result"
    }
   ],
   "source": [
    "hero_dc.head()"
   ]
  },
  {
   "cell_type": "code",
   "execution_count": 173,
   "id": "a9963544",
   "metadata": {},
   "outputs": [],
   "source": [
    "# We could do the same using iloc\n",
    "hero_dc.iloc[2,3] = '-'"
   ]
  },
  {
   "cell_type": "code",
   "execution_count": 174,
   "id": "0cee9ecc",
   "metadata": {},
   "outputs": [
    {
     "data": {
      "text/html": [
       "<div>\n",
       "<style scoped>\n",
       "    .dataframe tbody tr th:only-of-type {\n",
       "        vertical-align: middle;\n",
       "    }\n",
       "\n",
       "    .dataframe tbody tr th {\n",
       "        vertical-align: top;\n",
       "    }\n",
       "\n",
       "    .dataframe thead th {\n",
       "        text-align: right;\n",
       "    }\n",
       "</style>\n",
       "<table border=\"1\" class=\"dataframe\">\n",
       "  <thead>\n",
       "    <tr style=\"text-align: right;\">\n",
       "      <th></th>\n",
       "      <th>name</th>\n",
       "      <th>Gender</th>\n",
       "      <th>Eye color</th>\n",
       "      <th>Race</th>\n",
       "      <th>Hair color</th>\n",
       "      <th>Height</th>\n",
       "      <th>Publisher</th>\n",
       "      <th>Alignment</th>\n",
       "      <th>Weight</th>\n",
       "    </tr>\n",
       "  </thead>\n",
       "  <tbody>\n",
       "    <tr>\n",
       "      <th>0</th>\n",
       "      <td>Abin Sur</td>\n",
       "      <td>Male</td>\n",
       "      <td>blue</td>\n",
       "      <td>Ungaran</td>\n",
       "      <td>No Hair</td>\n",
       "      <td>185</td>\n",
       "      <td>DC Comics</td>\n",
       "      <td>good</td>\n",
       "      <td>90.0</td>\n",
       "    </tr>\n",
       "    <tr>\n",
       "      <th>1</th>\n",
       "      <td>Adam Strange</td>\n",
       "      <td>Male</td>\n",
       "      <td>blue</td>\n",
       "      <td>Human</td>\n",
       "      <td>Blond</td>\n",
       "      <td>185</td>\n",
       "      <td>DC Comics</td>\n",
       "      <td>good</td>\n",
       "      <td>88.0</td>\n",
       "    </tr>\n",
       "    <tr>\n",
       "      <th>2</th>\n",
       "      <td>Alan Scott</td>\n",
       "      <td>Male</td>\n",
       "      <td>blue</td>\n",
       "      <td>-</td>\n",
       "      <td>Blond</td>\n",
       "      <td>180</td>\n",
       "      <td>DC Comics</td>\n",
       "      <td>good</td>\n",
       "      <td>90.0</td>\n",
       "    </tr>\n",
       "    <tr>\n",
       "      <th>3</th>\n",
       "      <td>Alfred Pennyworth</td>\n",
       "      <td>Male</td>\n",
       "      <td>blue</td>\n",
       "      <td>Human</td>\n",
       "      <td>Black</td>\n",
       "      <td>178</td>\n",
       "      <td>DC Comics</td>\n",
       "      <td>good</td>\n",
       "      <td>72.0</td>\n",
       "    </tr>\n",
       "    <tr>\n",
       "      <th>4</th>\n",
       "      <td>Amazo</td>\n",
       "      <td>Male</td>\n",
       "      <td>red</td>\n",
       "      <td>Android</td>\n",
       "      <td>-</td>\n",
       "      <td>257</td>\n",
       "      <td>DC Comics</td>\n",
       "      <td>bad</td>\n",
       "      <td>173.0</td>\n",
       "    </tr>\n",
       "  </tbody>\n",
       "</table>\n",
       "</div>"
      ],
      "text/plain": [
       "                name Gender Eye color     Race Hair color  Height  Publisher  \\\n",
       "0           Abin Sur   Male      blue  Ungaran    No Hair     185  DC Comics   \n",
       "1       Adam Strange   Male      blue    Human      Blond     185  DC Comics   \n",
       "2         Alan Scott   Male      blue        -      Blond     180  DC Comics   \n",
       "3  Alfred Pennyworth   Male      blue    Human      Black     178  DC Comics   \n",
       "4              Amazo   Male       red  Android          -     257  DC Comics   \n",
       "\n",
       "  Alignment  Weight  \n",
       "0      good    90.0  \n",
       "1      good    88.0  \n",
       "2      good    90.0  \n",
       "3      good    72.0  \n",
       "4       bad   173.0  "
      ]
     },
     "execution_count": 174,
     "metadata": {},
     "output_type": "execute_result"
    }
   ],
   "source": [
    "hero_dc.head()"
   ]
  },
  {
   "cell_type": "code",
   "execution_count": 175,
   "id": "873ef541",
   "metadata": {},
   "outputs": [
    {
     "data": {
      "text/plain": [
       "0      False\n",
       "1      False\n",
       "2       True\n",
       "3      False\n",
       "4      False\n",
       "       ...  \n",
       "210     True\n",
       "211    False\n",
       "212    False\n",
       "213    False\n",
       "214     True\n",
       "Name: Race, Length: 215, dtype: bool"
      ]
     },
     "execution_count": 175,
     "metadata": {},
     "output_type": "execute_result"
    }
   ],
   "source": [
    "# What if we wanted to change all - to Unknown\n",
    "hero_dc['Race'] == '-'"
   ]
  },
  {
   "cell_type": "code",
   "execution_count": 176,
   "id": "76dbc54b",
   "metadata": {},
   "outputs": [],
   "source": [
    "hero_dc.loc[hero_dc['Race'] == '-', 'Race'] = 'Unknown'"
   ]
  },
  {
   "cell_type": "code",
   "execution_count": 177,
   "id": "5f6fd0ae",
   "metadata": {},
   "outputs": [
    {
     "data": {
      "text/html": [
       "<div>\n",
       "<style scoped>\n",
       "    .dataframe tbody tr th:only-of-type {\n",
       "        vertical-align: middle;\n",
       "    }\n",
       "\n",
       "    .dataframe tbody tr th {\n",
       "        vertical-align: top;\n",
       "    }\n",
       "\n",
       "    .dataframe thead th {\n",
       "        text-align: right;\n",
       "    }\n",
       "</style>\n",
       "<table border=\"1\" class=\"dataframe\">\n",
       "  <thead>\n",
       "    <tr style=\"text-align: right;\">\n",
       "      <th></th>\n",
       "      <th>name</th>\n",
       "      <th>Gender</th>\n",
       "      <th>Eye color</th>\n",
       "      <th>Race</th>\n",
       "      <th>Hair color</th>\n",
       "      <th>Height</th>\n",
       "      <th>Publisher</th>\n",
       "      <th>Alignment</th>\n",
       "      <th>Weight</th>\n",
       "    </tr>\n",
       "  </thead>\n",
       "  <tbody>\n",
       "    <tr>\n",
       "      <th>2</th>\n",
       "      <td>Alan Scott</td>\n",
       "      <td>Male</td>\n",
       "      <td>blue</td>\n",
       "      <td>Unknown</td>\n",
       "      <td>Blond</td>\n",
       "      <td>180</td>\n",
       "      <td>DC Comics</td>\n",
       "      <td>good</td>\n",
       "      <td>90.0</td>\n",
       "    </tr>\n",
       "    <tr>\n",
       "      <th>7</th>\n",
       "      <td>Aquababy</td>\n",
       "      <td>Male</td>\n",
       "      <td>blue</td>\n",
       "      <td>Unknown</td>\n",
       "      <td>Blond</td>\n",
       "      <td>-99</td>\n",
       "      <td>DC Comics</td>\n",
       "      <td>good</td>\n",
       "      <td>NaN</td>\n",
       "    </tr>\n",
       "    <tr>\n",
       "      <th>12</th>\n",
       "      <td>Atom</td>\n",
       "      <td>Male</td>\n",
       "      <td>blue</td>\n",
       "      <td>Unknown</td>\n",
       "      <td>Red</td>\n",
       "      <td>178</td>\n",
       "      <td>DC Comics</td>\n",
       "      <td>good</td>\n",
       "      <td>68.0</td>\n",
       "    </tr>\n",
       "    <tr>\n",
       "      <th>13</th>\n",
       "      <td>Atom</td>\n",
       "      <td>Male</td>\n",
       "      <td>-</td>\n",
       "      <td>Unknown</td>\n",
       "      <td>-</td>\n",
       "      <td>-99</td>\n",
       "      <td>DC Comics</td>\n",
       "      <td>good</td>\n",
       "      <td>NaN</td>\n",
       "    </tr>\n",
       "    <tr>\n",
       "      <th>14</th>\n",
       "      <td>Atom Girl</td>\n",
       "      <td>Female</td>\n",
       "      <td>black</td>\n",
       "      <td>Unknown</td>\n",
       "      <td>Black</td>\n",
       "      <td>168</td>\n",
       "      <td>DC Comics</td>\n",
       "      <td>good</td>\n",
       "      <td>54.0</td>\n",
       "    </tr>\n",
       "    <tr>\n",
       "      <th>...</th>\n",
       "      <td>...</td>\n",
       "      <td>...</td>\n",
       "      <td>...</td>\n",
       "      <td>...</td>\n",
       "      <td>...</td>\n",
       "      <td>...</td>\n",
       "      <td>...</td>\n",
       "      <td>...</td>\n",
       "      <td>...</td>\n",
       "    </tr>\n",
       "    <tr>\n",
       "      <th>204</th>\n",
       "      <td>Triplicate Girl</td>\n",
       "      <td>Female</td>\n",
       "      <td>purple</td>\n",
       "      <td>Unknown</td>\n",
       "      <td>Brown</td>\n",
       "      <td>168</td>\n",
       "      <td>DC Comics</td>\n",
       "      <td>good</td>\n",
       "      <td>59.0</td>\n",
       "    </tr>\n",
       "    <tr>\n",
       "      <th>205</th>\n",
       "      <td>Two-Face</td>\n",
       "      <td>Male</td>\n",
       "      <td>-</td>\n",
       "      <td>Unknown</td>\n",
       "      <td>-</td>\n",
       "      <td>183</td>\n",
       "      <td>DC Comics</td>\n",
       "      <td>bad</td>\n",
       "      <td>82.0</td>\n",
       "    </tr>\n",
       "    <tr>\n",
       "      <th>208</th>\n",
       "      <td>Warp</td>\n",
       "      <td>Male</td>\n",
       "      <td>brown</td>\n",
       "      <td>Unknown</td>\n",
       "      <td>Black</td>\n",
       "      <td>173</td>\n",
       "      <td>DC Comics</td>\n",
       "      <td>bad</td>\n",
       "      <td>67.0</td>\n",
       "    </tr>\n",
       "    <tr>\n",
       "      <th>210</th>\n",
       "      <td>Wildfire</td>\n",
       "      <td>Male</td>\n",
       "      <td>-</td>\n",
       "      <td>Unknown</td>\n",
       "      <td>-</td>\n",
       "      <td>-99</td>\n",
       "      <td>DC Comics</td>\n",
       "      <td>good</td>\n",
       "      <td>NaN</td>\n",
       "    </tr>\n",
       "    <tr>\n",
       "      <th>214</th>\n",
       "      <td>Zoom</td>\n",
       "      <td>Male</td>\n",
       "      <td>red</td>\n",
       "      <td>Unknown</td>\n",
       "      <td>Brown</td>\n",
       "      <td>185</td>\n",
       "      <td>DC Comics</td>\n",
       "      <td>bad</td>\n",
       "      <td>81.0</td>\n",
       "    </tr>\n",
       "  </tbody>\n",
       "</table>\n",
       "<p>71 rows × 9 columns</p>\n",
       "</div>"
      ],
      "text/plain": [
       "                name  Gender Eye color     Race Hair color  Height  Publisher  \\\n",
       "2         Alan Scott    Male      blue  Unknown      Blond     180  DC Comics   \n",
       "7           Aquababy    Male      blue  Unknown      Blond     -99  DC Comics   \n",
       "12              Atom    Male      blue  Unknown        Red     178  DC Comics   \n",
       "13              Atom    Male         -  Unknown          -     -99  DC Comics   \n",
       "14         Atom Girl  Female     black  Unknown      Black     168  DC Comics   \n",
       "..               ...     ...       ...      ...        ...     ...        ...   \n",
       "204  Triplicate Girl  Female    purple  Unknown      Brown     168  DC Comics   \n",
       "205         Two-Face    Male         -  Unknown          -     183  DC Comics   \n",
       "208             Warp    Male     brown  Unknown      Black     173  DC Comics   \n",
       "210         Wildfire    Male         -  Unknown          -     -99  DC Comics   \n",
       "214             Zoom    Male       red  Unknown      Brown     185  DC Comics   \n",
       "\n",
       "    Alignment  Weight  \n",
       "2        good    90.0  \n",
       "7        good     NaN  \n",
       "12       good    68.0  \n",
       "13       good     NaN  \n",
       "14       good    54.0  \n",
       "..        ...     ...  \n",
       "204      good    59.0  \n",
       "205       bad    82.0  \n",
       "208       bad    67.0  \n",
       "210      good     NaN  \n",
       "214       bad    81.0  \n",
       "\n",
       "[71 rows x 9 columns]"
      ]
     },
     "execution_count": 177,
     "metadata": {},
     "output_type": "execute_result"
    }
   ],
   "source": [
    "hero_dc[hero_dc['Race'] == 'Unknown']"
   ]
  },
  {
   "cell_type": "code",
   "execution_count": 178,
   "id": "cbe65311",
   "metadata": {},
   "outputs": [
    {
     "data": {
      "text/plain": [
       "0      DC Comics\n",
       "1      DC Comics\n",
       "2      DC Comics\n",
       "3      DC Comics\n",
       "4      DC Comics\n",
       "         ...    \n",
       "210    DC Comics\n",
       "211    DC Comics\n",
       "212    DC Comics\n",
       "213    DC Comics\n",
       "214    DC Comics\n",
       "Name: Publisher, Length: 215, dtype: object"
      ]
     },
     "execution_count": 178,
     "metadata": {},
     "output_type": "execute_result"
    }
   ],
   "source": [
    "# Select a certain column\n",
    "hero_dc['Publisher']"
   ]
  },
  {
   "cell_type": "code",
   "execution_count": 191,
   "id": "22ca45c0",
   "metadata": {},
   "outputs": [],
   "source": [
    "# Add a column\n",
    "def bmi(w, h):\n",
    "    # bmi = weight (kg)/height (m)^2\n",
    "    bmi = w/(h/100)**2\n",
    "    return bmi\n",
    "\n",
    "hero_dc['BMI'] = bmi(hero_dc['Weight'], hero_dc['Height'])"
   ]
  },
  {
   "cell_type": "code",
   "execution_count": 192,
   "id": "cab32874",
   "metadata": {},
   "outputs": [
    {
     "data": {
      "text/html": [
       "<div>\n",
       "<style scoped>\n",
       "    .dataframe tbody tr th:only-of-type {\n",
       "        vertical-align: middle;\n",
       "    }\n",
       "\n",
       "    .dataframe tbody tr th {\n",
       "        vertical-align: top;\n",
       "    }\n",
       "\n",
       "    .dataframe thead th {\n",
       "        text-align: right;\n",
       "    }\n",
       "</style>\n",
       "<table border=\"1\" class=\"dataframe\">\n",
       "  <thead>\n",
       "    <tr style=\"text-align: right;\">\n",
       "      <th></th>\n",
       "      <th>name</th>\n",
       "      <th>Gender</th>\n",
       "      <th>Eye color</th>\n",
       "      <th>Race</th>\n",
       "      <th>Hair color</th>\n",
       "      <th>Height</th>\n",
       "      <th>Publisher</th>\n",
       "      <th>Alignment</th>\n",
       "      <th>Weight</th>\n",
       "      <th>BMI</th>\n",
       "    </tr>\n",
       "  </thead>\n",
       "  <tbody>\n",
       "    <tr>\n",
       "      <th>0</th>\n",
       "      <td>Abin Sur</td>\n",
       "      <td>Male</td>\n",
       "      <td>blue</td>\n",
       "      <td>Ungaran</td>\n",
       "      <td>No Hair</td>\n",
       "      <td>185</td>\n",
       "      <td>DC Comics</td>\n",
       "      <td>good</td>\n",
       "      <td>90.0</td>\n",
       "      <td>26.296567</td>\n",
       "    </tr>\n",
       "    <tr>\n",
       "      <th>1</th>\n",
       "      <td>Adam Strange</td>\n",
       "      <td>Male</td>\n",
       "      <td>blue</td>\n",
       "      <td>Human</td>\n",
       "      <td>Blond</td>\n",
       "      <td>185</td>\n",
       "      <td>DC Comics</td>\n",
       "      <td>good</td>\n",
       "      <td>88.0</td>\n",
       "      <td>25.712199</td>\n",
       "    </tr>\n",
       "    <tr>\n",
       "      <th>2</th>\n",
       "      <td>Alan Scott</td>\n",
       "      <td>Male</td>\n",
       "      <td>blue</td>\n",
       "      <td>Unknown</td>\n",
       "      <td>Blond</td>\n",
       "      <td>180</td>\n",
       "      <td>DC Comics</td>\n",
       "      <td>good</td>\n",
       "      <td>90.0</td>\n",
       "      <td>27.777778</td>\n",
       "    </tr>\n",
       "    <tr>\n",
       "      <th>3</th>\n",
       "      <td>Alfred Pennyworth</td>\n",
       "      <td>Male</td>\n",
       "      <td>blue</td>\n",
       "      <td>Human</td>\n",
       "      <td>Black</td>\n",
       "      <td>178</td>\n",
       "      <td>DC Comics</td>\n",
       "      <td>good</td>\n",
       "      <td>72.0</td>\n",
       "      <td>22.724403</td>\n",
       "    </tr>\n",
       "    <tr>\n",
       "      <th>4</th>\n",
       "      <td>Amazo</td>\n",
       "      <td>Male</td>\n",
       "      <td>red</td>\n",
       "      <td>Android</td>\n",
       "      <td>-</td>\n",
       "      <td>257</td>\n",
       "      <td>DC Comics</td>\n",
       "      <td>bad</td>\n",
       "      <td>173.0</td>\n",
       "      <td>26.192675</td>\n",
       "    </tr>\n",
       "  </tbody>\n",
       "</table>\n",
       "</div>"
      ],
      "text/plain": [
       "                name Gender Eye color     Race Hair color  Height  Publisher  \\\n",
       "0           Abin Sur   Male      blue  Ungaran    No Hair     185  DC Comics   \n",
       "1       Adam Strange   Male      blue    Human      Blond     185  DC Comics   \n",
       "2         Alan Scott   Male      blue  Unknown      Blond     180  DC Comics   \n",
       "3  Alfred Pennyworth   Male      blue    Human      Black     178  DC Comics   \n",
       "4              Amazo   Male       red  Android          -     257  DC Comics   \n",
       "\n",
       "  Alignment  Weight        BMI  \n",
       "0      good    90.0  26.296567  \n",
       "1      good    88.0  25.712199  \n",
       "2      good    90.0  27.777778  \n",
       "3      good    72.0  22.724403  \n",
       "4       bad   173.0  26.192675  "
      ]
     },
     "execution_count": 192,
     "metadata": {},
     "output_type": "execute_result"
    }
   ],
   "source": [
    "hero_dc.head()"
   ]
  },
  {
   "cell_type": "code",
   "execution_count": 194,
   "id": "31fdf08a",
   "metadata": {},
   "outputs": [
    {
     "data": {
      "text/plain": [
       "0      26.296567\n",
       "1      25.712199\n",
       "2      27.777778\n",
       "3      22.724403\n",
       "4      26.192675\n",
       "         ...    \n",
       "210          NaN\n",
       "211    18.732782\n",
       "212    22.096808\n",
       "213    19.723183\n",
       "214    23.666910\n",
       "Length: 215, dtype: float64"
      ]
     },
     "execution_count": 194,
     "metadata": {},
     "output_type": "execute_result"
    }
   ],
   "source": [
    "hero_dc['Weight']/(hero_dc['Height']/100)**2"
   ]
  },
  {
   "cell_type": "code",
   "execution_count": 195,
   "id": "e67e6d14",
   "metadata": {},
   "outputs": [],
   "source": [
    "# Creating a dataframe copy\n",
    "hero_dc_copy = hero_dc.copy()"
   ]
  },
  {
   "cell_type": "code",
   "execution_count": null,
   "id": "392fc5e6",
   "metadata": {},
   "outputs": [],
   "source": []
  }
 ],
 "metadata": {
  "kernelspec": {
   "display_name": "Python 3 (ipykernel)",
   "language": "python",
   "name": "python3"
  },
  "language_info": {
   "codemirror_mode": {
    "name": "ipython",
    "version": 3
   },
   "file_extension": ".py",
   "mimetype": "text/x-python",
   "name": "python",
   "nbconvert_exporter": "python",
   "pygments_lexer": "ipython3",
   "version": "3.9.7"
  }
 },
 "nbformat": 4,
 "nbformat_minor": 5
}
